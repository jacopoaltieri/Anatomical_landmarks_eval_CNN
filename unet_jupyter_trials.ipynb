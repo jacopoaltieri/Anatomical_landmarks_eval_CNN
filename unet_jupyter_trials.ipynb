{
 "cells": [
  {
   "cell_type": "markdown",
   "metadata": {},
   "source": [
    "# Modules imports"
   ]
  },
  {
   "cell_type": "code",
   "execution_count": 10,
   "metadata": {},
   "outputs": [],
   "source": [
    "import os\n",
    "import matplotlib.pyplot as plt # Needed when showing examples\n",
    "import cv2                      # Needed when showing examples\n",
    "import numpy as np\n",
    "\n",
    "os.environ[\"TF_CPP_MIN_LOG_LEVEL\"] = \"3\"  # ignore TF unsupported NUMA warnings\n",
    "\n",
    "\n",
    "# Filter out TFA warning\n",
    "#import warnings\n",
    "#warnings.filterwarnings(\"ignore\", message=\"TFA has entered a minimal maintenance and release mode\", category=Warning)\n",
    "\n",
    "\n",
    "import tensorflow as tf\n",
    "import tensorflow_addons as tfa\n",
    "\n",
    "\n",
    "# Avoid OOM errors by setting GPU Memory Consumption Growth\n",
    "gpus = tf.config.experimental.list_physical_devices('GPU')\n",
    "for gpu in gpus: \n",
    "    tf.config.experimental.set_memory_growth(gpu, True)\n"
   ]
  },
  {
   "cell_type": "markdown",
   "metadata": {},
   "source": [
    "# Hyperparameters"
   ]
  },
  {
   "cell_type": "code",
   "execution_count": 11,
   "metadata": {},
   "outputs": [],
   "source": [
    "BATCH_SIZE = 4"
   ]
  },
  {
   "cell_type": "markdown",
   "metadata": {},
   "source": [
    "# Importing dataset"
   ]
  },
  {
   "cell_type": "code",
   "execution_count": 12,
   "metadata": {},
   "outputs": [
    {
     "name": "stdout",
     "output_type": "stream",
     "text": [
      "Started dataset loading...\n"
     ]
    }
   ],
   "source": [
    "print(\"Started dataset loading...\")\n",
    "\n",
    "input_path = \"/mnt/c/Users/jacop/Desktop/DL_Project/processed_dataset/\" #if in wsl\n",
    "#input_path = \"/mnt/c/Users/vitto/Desktop/DL project/DL project github/processed_dataset/\" #if in wsl\n",
    "#input_path = r\"C:\\Users\\vitto\\Desktop\\DL project\\DL project github\\processed_dataset\"  # if in windows\n",
    "#input_path = r\"C:\\Users\\jacop\\Desktop\\DL_Project\\processed_dataset\"  # if in windows\n",
    "\n",
    "\n",
    "# =========== Images =========== #\n",
    "\n",
    "\n",
    "# Definizione della funzione per l'elaborazione delle immagini\n",
    "def process_image(x):\n",
    "    # Leggi il contenuto del file immagine come sequenza di byte\n",
    "    byte_img = tf.io.read_file(x)\n",
    "    # Decodifica l'immagine utilizzando il formato JPEG\n",
    "    img = tf.io.decode_jpeg(byte_img)\n",
    "    # Convert images to grayscale\n",
    "    img = tf.image.rgb_to_grayscale(img)\n",
    "    img = tf.squeeze(img, axis=-1)\n",
    "    # Normalizza i valori dei pixel nell'intervallo [0, 1]\n",
    "    img = img / 255\n",
    "    return img\n",
    "\n",
    "\n",
    "# Creazione di un dataset per le immagini di addestramento\n",
    "train_images = tf.data.Dataset.list_files(\n",
    "    input_path + \"/images/train/*.jpg\", shuffle=False\n",
    ")\n",
    "# Applica la funzione process_image a ciascun elemento del dataset\n",
    "train_images = train_images.map(process_image)\n",
    "\n",
    "# Creazione di un dataset per le immagini di test\n",
    "test_images = tf.data.Dataset.list_files(\n",
    "    input_path + \"/images/test/*.jpg\", shuffle=False\n",
    ")\n",
    "# Applica la funzione process_image a ciascun elemento del dataset\n",
    "test_images = test_images.map(process_image)\n",
    "\n",
    "# Creazione di un dataset per le immagini di validazione\n",
    "val_images = tf.data.Dataset.list_files(input_path + \"/images/val/*.jpg\", shuffle=False)\n",
    "# Applica la funzione process_image a ciascun elemento del dataset\n",
    "val_images = val_images.map(process_image)\n",
    "\n",
    "\n",
    "# =========== Labels =========== #\n",
    "\n",
    "\n",
    "# Definizione di una funzione per caricare le etichette da un file di testo\n",
    "def load_labels(path):\n",
    "    # Inizializza una lista vuota per le etichette\n",
    "    landmarks = []\n",
    "\n",
    "    # Apre il file di etichette specificato da `path` in modalità di lettura con encoding \"utf-8\"\n",
    "    with open(path.numpy(), \"r\", encoding=\"utf-8\") as file:\n",
    "        # Salta la prima riga del file\n",
    "        next(file, None)\n",
    "\n",
    "        # Itera attraverso le righe rimanenti nel file\n",
    "        for line in file:\n",
    "            # Divide ciascuna riga in colonne utilizzando il carattere di tabulazione '\\t' come delimitatore\n",
    "            columns = line.strip().split(\"\\t\")\n",
    "\n",
    "            # Estrae i valori X e Y dalle colonne 1 e 2 (considerando gli indici 0-based)\n",
    "            # e li converte in valori float. Inoltre, li normalizza dividendo per 256\n",
    "            x_value = float(columns[1]) / 256\n",
    "            y_value = float(columns[2]) / 256\n",
    "\n",
    "            # Aggiunge i valori X e Y normalizzati alla lista `landmarks`\n",
    "            landmarks.extend([x_value, y_value])\n",
    "\n",
    "    # Convert `landmarks` to a NumPy array\n",
    "    return np.array(landmarks)\n",
    "\n",
    "\n",
    "# Create train, test and val label dataset and load their labels using the corresponding function\n",
    "train_labels = tf.data.Dataset.list_files(input_path + \"/labels/train/*.txt\", shuffle=False)\n",
    "train_labels = train_labels.map(lambda x: tf.py_function(load_labels, [x], [tf.float16]))\n",
    "\n",
    "test_labels = tf.data.Dataset.list_files(input_path + \"/labels/test/*.txt\", shuffle=False)\n",
    "test_labels = test_labels.map(lambda x: tf.py_function(load_labels, [x], [tf.float16]))\n",
    "\n",
    "val_labels = tf.data.Dataset.list_files(input_path + \"/labels/val/*.txt\", shuffle=False)\n",
    "val_labels = val_labels.map(lambda x: tf.py_function(load_labels, [x], [tf.float16]))\n",
    "\n",
    "\n",
    "# =========== Combine Images and Labels =========== #\n",
    "\n",
    "# Creazione del dataset di addestramento combinando immagini ed etichette\n",
    "train = tf.data.Dataset.zip((train_images, train_labels))\n",
    "test = tf.data.Dataset.zip((test_images, test_labels))\n",
    "val = tf.data.Dataset.zip((val_images, val_labels))\n",
    "\n"
   ]
  },
  {
   "cell_type": "markdown",
   "metadata": {},
   "source": [
    "# U-Net\n",
    "\n",
    "Creating generators"
   ]
  },
  {
   "cell_type": "code",
   "execution_count": 13,
   "metadata": {},
   "outputs": [
    {
     "name": "stdout",
     "output_type": "stream",
     "text": [
      "Started U-Net training...\n"
     ]
    }
   ],
   "source": [
    "print(\"Started U-Net training...\")\n",
    " \n",
    "# We only need images in this part\n",
    "train_images_only = train.map(lambda x, y: x)\n",
    "test_images_only = test.map(lambda x, y: x)\n",
    "val_images_only = val.map(lambda x, y: x)\n",
    "\n",
    "\n",
    "# Create a generator function to yield the combined image tensor\n",
    "train_list = list(train_images_only)\n",
    "def train_image_generator():\n",
    "    for moving_image in train_list:\n",
    "        # The first image in train_images_only is considered as \"fixed_image\"\n",
    "        fixed_image = train_list[1]\n",
    "\n",
    "        # Combine fixed and moving images into a single tensor\n",
    "        combined_image = tf.stack([fixed_image,moving_image],-1)\n",
    "        yield (combined_image, fixed_image)\n",
    "\n",
    "\n",
    "# Create a TensorFlow dataset from the generator\n",
    "train_images_dataset = tf.data.Dataset.from_generator(\n",
    "    train_image_generator,\n",
    "    output_signature=(tf.TensorSpec(shape=(256, 256, 2), dtype=tf.float32),\n",
    "                      tf.TensorSpec(shape=(256, 256), dtype=tf.float32))\n",
    "    )\n",
    "train_images_dataset = train_images_dataset.shuffle(1000).batch(BATCH_SIZE)\n",
    "\n",
    "val_list = list(val_images_only)\n",
    "\n",
    "\n",
    "\n",
    "# Create a generator function to yield the combined image tensor for validation\n",
    "def val_image_generator():\n",
    "    for moving_image in val_list:\n",
    "        fixed_image = train_list[1]\n",
    "        combined_image = tf.stack([fixed_image, moving_image], -1)\n",
    "        yield (combined_image, fixed_image)\n",
    "\n",
    "# Create a TensorFlow dataset from the generator for validation\n",
    "val_images_dataset = tf.data.Dataset.from_generator(\n",
    "    val_image_generator,\n",
    "    output_signature=(\n",
    "        tf.TensorSpec(shape=(256, 256, 2), dtype=tf.float32),\n",
    "        tf.TensorSpec(shape=(256, 256), dtype=tf.float32)\n",
    "    )\n",
    ")\n",
    "\n",
    "# No need to shuffle for the validation set\n",
    "val_images_dataset = val_images_dataset.batch(BATCH_SIZE)"
   ]
  },
  {
   "cell_type": "markdown",
   "metadata": {},
   "source": [
    "U-net downsampling path"
   ]
  },
  {
   "cell_type": "code",
   "execution_count": 14,
   "metadata": {},
   "outputs": [],
   "source": [
    "input_shape = (256, 256, 2)\n",
    "\n",
    "\n",
    "# Due immagini, una fixed e una moving, prese come input\n",
    "input = tf.keras.layers.Input(shape=input_shape)\n",
    "\n",
    "### Downsampling path ###\n",
    "\n",
    "# Applicazione della funzione di attivazione Leaky ReLU con coefficiente alpha\n",
    "a1 = tf.keras.layers.LeakyReLU(alpha=0.01)(input)\n",
    "\n",
    "# Applicazione di un layer di convoluzione 2D con 64 filtri di dimensione 3x3\n",
    "c1 = tf.keras.layers.Conv2D(64, 3, padding=\"same\", kernel_initializer=\"he_normal\")(a1)\n",
    "\n",
    "# Applicazione del layer di Dropout con un tasso di dropout del 10%\n",
    "c1 = tf.keras.layers.Dropout(0.1)(c1)\n",
    "\n",
    "# Applicazione del max-pooling con una finestra di pooling di dimensione 2x2\n",
    "p1 = tf.keras.layers.MaxPooling2D(pool_size=(2, 2))(c1)\n",
    "\n",
    "\n",
    "a2 = tf.keras.layers.LeakyReLU(alpha=0.01)(p1)\n",
    "c2 = tf.keras.layers.Conv2D(128, 3, padding=\"same\", kernel_initializer=\"he_normal\")(a2)\n",
    "c2 = tf.keras.layers.Dropout(0.1)(c2)\n",
    "p2 = tf.keras.layers.MaxPooling2D(pool_size=(2, 2))(c2)\n",
    "\n",
    "a3 = tf.keras.layers.LeakyReLU(alpha=0.01)(p2)\n",
    "c3 = tf.keras.layers.Conv2D(256, 3, padding=\"same\", kernel_initializer=\"he_normal\")(a3)\n",
    "c3 = tf.keras.layers.Dropout(0.2)(c3)\n",
    "p3 = tf.keras.layers.MaxPooling2D(pool_size=(2, 2))(c3)\n",
    "\n",
    "a4 = tf.keras.layers.LeakyReLU(alpha=0.01)(p3)\n",
    "c4 = tf.keras.layers.Conv2D(512, 3, padding=\"same\", kernel_initializer=\"he_normal\")(a4)\n",
    "c4 = tf.keras.layers.Dropout(0.2)(c4)\n",
    "p4 = tf.keras.layers.MaxPooling2D(pool_size=(2, 2))(c4)\n",
    "\n",
    "a5 = tf.keras.layers.LeakyReLU(alpha=0.01)(p4)\n",
    "c5 = tf.keras.layers.Conv2D(1024, 3, padding=\"same\", kernel_initializer=\"he_normal\")(a5)\n",
    "c5 = tf.keras.layers.Dropout(0.3)(c5)"
   ]
  },
  {
   "cell_type": "markdown",
   "metadata": {},
   "source": [
    "U-Net upsampling path"
   ]
  },
  {
   "cell_type": "code",
   "execution_count": 15,
   "metadata": {},
   "outputs": [],
   "source": [
    "\n",
    "# Decodifica dell'output dell'encoder con la trasposizione della convoluzione 2D\n",
    "u6 = tf.keras.layers.Conv2DTranspose(512, (2, 2), strides=(2, 2), padding=\"same\")(c5)\n",
    "u6 = tf.keras.layers.concatenate(\n",
    "    [u6, c4]\n",
    ")  # Concatenazione dell'output con gli strati dell'encoder precedenti\n",
    "a6 = tf.keras.layers.LeakyReLU(alpha=0.01)(u6)  # Applicazione di Leaky ReLU\n",
    "c6 = tf.keras.layers.Conv2D(512, 3, padding=\"same\", kernel_initializer=\"he_normal\")(\n",
    "    a6\n",
    ")  # Convoluzione 2D\n",
    "c6 = tf.keras.layers.Dropout(0.3)(c6)  # Applicazione di Dropout\n",
    "\n",
    "u7 = tf.keras.layers.Conv2DTranspose(256, (2, 2), strides=(2, 2), padding=\"same\")(c6)\n",
    "u7 = tf.keras.layers.concatenate([u7, c3])\n",
    "a7 = tf.keras.layers.LeakyReLU(alpha=0.01)(u7)\n",
    "c7 = tf.keras.layers.Conv2D(256, 3, padding=\"same\", kernel_initializer=\"he_normal\")(a7)\n",
    "c7 = tf.keras.layers.Dropout(0.2)(c7)\n",
    "\n",
    "u8 = tf.keras.layers.Conv2DTranspose(128, (2, 2), strides=(2, 2), padding=\"same\")(c7)\n",
    "u8 = tf.keras.layers.concatenate([u8, c2])\n",
    "a8 = tf.keras.layers.LeakyReLU(alpha=0.01)(u8)\n",
    "c8 = tf.keras.layers.Conv2D(128, 3, padding=\"same\", kernel_initializer=\"he_normal\")(a8)\n",
    "c8 = tf.keras.layers.Dropout(0.2)(c8)\n",
    "\n",
    "u9 = tf.keras.layers.Conv2DTranspose(64, (2, 2), strides=(2, 2), padding=\"same\")(c8)\n",
    "u9 = tf.keras.layers.concatenate([u9, c1])\n",
    "a9 = tf.keras.layers.LeakyReLU(alpha=0.01)(u9)\n",
    "c9 = tf.keras.layers.Conv2D(64, 3, padding=\"same\", kernel_initializer=\"he_normal\")(a9)\n",
    "c9 = tf.keras.layers.Dropout(0.1)(c9)\n",
    "\n",
    "# Creazione dell'output finale del modello\n",
    "c10 = tf.keras.layers.Conv2D(2, 1, padding=\"same\", kernel_initializer=\"he_normal\")(c9)\n",
    "\n",
    "# Creazione di un tensore di deformazione\n",
    "displacement_tensor = tf.keras.layers.Conv2D(\n",
    "    2, kernel_size=3,activation='linear', padding=\"same\", name=\"disp\"\n",
    ")(c10)\n",
    "\n",
    "# Define the function to extract the \"bottom\" tensor\n",
    "def extract_moving_img(input):\n",
    "    return input[:, :, :, 1:2]\n",
    "moving_image = tf.keras.layers.Lambda(extract_moving_img)(input)\n",
    "\n",
    "# Creazione di una funzione per applicare la trasformazione di deformazione all'immagine di input\n",
    "def apply_deformation(inputs):\n",
    "    #unpacking dell'input\n",
    "    image, displacement_tensor = inputs\n",
    "    # Applica la trasformazione di deformazione all'immagine di input utilizzando il tensore di deformazione\n",
    "    deformed_image = tfa.image.dense_image_warp(image, displacement_tensor)\n",
    "    return deformed_image\n",
    "\n",
    "output = tf.keras.layers.Lambda(apply_deformation)([moving_image,displacement_tensor])\n"
   ]
  },
  {
   "cell_type": "markdown",
   "metadata": {},
   "source": [
    "Model Initialization"
   ]
  },
  {
   "cell_type": "code",
   "execution_count": 16,
   "metadata": {},
   "outputs": [],
   "source": [
    "# Create the U-Net model\n",
    "unet = tf.keras.Model(inputs=input, outputs=output)\n",
    "\n",
    "# Create the custom loss (mse for now)\n",
    "def custom_loss(y_true, y_pred):\n",
    "    return tf.losses.mean_squared_error(y_true, y_pred)*1/(256*256)\n",
    "\n",
    "\n",
    "unet.compile(loss=custom_loss, optimizer='adam', metrics=['accuracy'])\n",
    "#unet.summary()"
   ]
  },
  {
   "cell_type": "markdown",
   "metadata": {},
   "source": [
    "Model Training"
   ]
  },
  {
   "cell_type": "code",
   "execution_count": 17,
   "metadata": {},
   "outputs": [
    {
     "name": "stdout",
     "output_type": "stream",
     "text": [
      "Epoch 1/10\n",
      "     49/Unknown - 26s 187ms/step - loss: 2.3644e-06 - accuracy: 0.1259"
     ]
    },
    {
     "ename": "KeyboardInterrupt",
     "evalue": "",
     "output_type": "error",
     "traceback": [
      "\u001b[0;31m---------------------------------------------------------------------------\u001b[0m",
      "\u001b[0;31mKeyboardInterrupt\u001b[0m                         Traceback (most recent call last)",
      "\u001b[1;32m/mnt/c/Users/jacop/Desktop/DL_Project/Anatomical_landmarks_eval_CNN/unet_jupyter_trials.ipynb Cell 16\u001b[0m line \u001b[0;36m2\n\u001b[1;32m      <a href='vscode-notebook-cell://wsl%2Bubuntu/mnt/c/Users/jacop/Desktop/DL_Project/Anatomical_landmarks_eval_CNN/unet_jupyter_trials.ipynb#X21sdnNjb2RlLXJlbW90ZQ%3D%3D?line=0'>1</a>\u001b[0m \u001b[39m# Train the model\u001b[39;00m\n\u001b[0;32m----> <a href='vscode-notebook-cell://wsl%2Bubuntu/mnt/c/Users/jacop/Desktop/DL_Project/Anatomical_landmarks_eval_CNN/unet_jupyter_trials.ipynb#X21sdnNjb2RlLXJlbW90ZQ%3D%3D?line=1'>2</a>\u001b[0m history \u001b[39m=\u001b[39m unet\u001b[39m.\u001b[39;49mfit(train_images_dataset, epochs\u001b[39m=\u001b[39;49m\u001b[39m10\u001b[39;49m, validation_data\u001b[39m=\u001b[39;49mval_images_dataset)\n\u001b[1;32m      <a href='vscode-notebook-cell://wsl%2Bubuntu/mnt/c/Users/jacop/Desktop/DL_Project/Anatomical_landmarks_eval_CNN/unet_jupyter_trials.ipynb#X21sdnNjb2RlLXJlbW90ZQ%3D%3D?line=3'>4</a>\u001b[0m \u001b[39m# Plot training & validation accuracy values\u001b[39;00m\n\u001b[1;32m      <a href='vscode-notebook-cell://wsl%2Bubuntu/mnt/c/Users/jacop/Desktop/DL_Project/Anatomical_landmarks_eval_CNN/unet_jupyter_trials.ipynb#X21sdnNjb2RlLXJlbW90ZQ%3D%3D?line=4'>5</a>\u001b[0m plt\u001b[39m.\u001b[39mplot(history\u001b[39m.\u001b[39mhistory[\u001b[39m'\u001b[39m\u001b[39maccuracy\u001b[39m\u001b[39m'\u001b[39m])\n",
      "File \u001b[0;32m~/.local/lib/python3.10/site-packages/keras/src/utils/traceback_utils.py:65\u001b[0m, in \u001b[0;36mfilter_traceback.<locals>.error_handler\u001b[0;34m(*args, **kwargs)\u001b[0m\n\u001b[1;32m     63\u001b[0m filtered_tb \u001b[39m=\u001b[39m \u001b[39mNone\u001b[39;00m\n\u001b[1;32m     64\u001b[0m \u001b[39mtry\u001b[39;00m:\n\u001b[0;32m---> 65\u001b[0m     \u001b[39mreturn\u001b[39;00m fn(\u001b[39m*\u001b[39;49margs, \u001b[39m*\u001b[39;49m\u001b[39m*\u001b[39;49mkwargs)\n\u001b[1;32m     66\u001b[0m \u001b[39mexcept\u001b[39;00m \u001b[39mException\u001b[39;00m \u001b[39mas\u001b[39;00m e:\n\u001b[1;32m     67\u001b[0m     filtered_tb \u001b[39m=\u001b[39m _process_traceback_frames(e\u001b[39m.\u001b[39m__traceback__)\n",
      "File \u001b[0;32m~/.local/lib/python3.10/site-packages/keras/src/engine/training.py:1783\u001b[0m, in \u001b[0;36mModel.fit\u001b[0;34m(self, x, y, batch_size, epochs, verbose, callbacks, validation_split, validation_data, shuffle, class_weight, sample_weight, initial_epoch, steps_per_epoch, validation_steps, validation_batch_size, validation_freq, max_queue_size, workers, use_multiprocessing)\u001b[0m\n\u001b[1;32m   1775\u001b[0m \u001b[39mwith\u001b[39;00m tf\u001b[39m.\u001b[39mprofiler\u001b[39m.\u001b[39mexperimental\u001b[39m.\u001b[39mTrace(\n\u001b[1;32m   1776\u001b[0m     \u001b[39m\"\u001b[39m\u001b[39mtrain\u001b[39m\u001b[39m\"\u001b[39m,\n\u001b[1;32m   1777\u001b[0m     epoch_num\u001b[39m=\u001b[39mepoch,\n\u001b[0;32m   (...)\u001b[0m\n\u001b[1;32m   1780\u001b[0m     _r\u001b[39m=\u001b[39m\u001b[39m1\u001b[39m,\n\u001b[1;32m   1781\u001b[0m ):\n\u001b[1;32m   1782\u001b[0m     callbacks\u001b[39m.\u001b[39mon_train_batch_begin(step)\n\u001b[0;32m-> 1783\u001b[0m     tmp_logs \u001b[39m=\u001b[39m \u001b[39mself\u001b[39;49m\u001b[39m.\u001b[39;49mtrain_function(iterator)\n\u001b[1;32m   1784\u001b[0m     \u001b[39mif\u001b[39;00m data_handler\u001b[39m.\u001b[39mshould_sync:\n\u001b[1;32m   1785\u001b[0m         context\u001b[39m.\u001b[39masync_wait()\n",
      "File \u001b[0;32m~/.local/lib/python3.10/site-packages/tensorflow/python/util/traceback_utils.py:150\u001b[0m, in \u001b[0;36mfilter_traceback.<locals>.error_handler\u001b[0;34m(*args, **kwargs)\u001b[0m\n\u001b[1;32m    148\u001b[0m filtered_tb \u001b[39m=\u001b[39m \u001b[39mNone\u001b[39;00m\n\u001b[1;32m    149\u001b[0m \u001b[39mtry\u001b[39;00m:\n\u001b[0;32m--> 150\u001b[0m   \u001b[39mreturn\u001b[39;00m fn(\u001b[39m*\u001b[39;49margs, \u001b[39m*\u001b[39;49m\u001b[39m*\u001b[39;49mkwargs)\n\u001b[1;32m    151\u001b[0m \u001b[39mexcept\u001b[39;00m \u001b[39mException\u001b[39;00m \u001b[39mas\u001b[39;00m e:\n\u001b[1;32m    152\u001b[0m   filtered_tb \u001b[39m=\u001b[39m _process_traceback_frames(e\u001b[39m.\u001b[39m__traceback__)\n",
      "File \u001b[0;32m~/.local/lib/python3.10/site-packages/tensorflow/python/eager/polymorphic_function/polymorphic_function.py:831\u001b[0m, in \u001b[0;36mFunction.__call__\u001b[0;34m(self, *args, **kwds)\u001b[0m\n\u001b[1;32m    828\u001b[0m compiler \u001b[39m=\u001b[39m \u001b[39m\"\u001b[39m\u001b[39mxla\u001b[39m\u001b[39m\"\u001b[39m \u001b[39mif\u001b[39;00m \u001b[39mself\u001b[39m\u001b[39m.\u001b[39m_jit_compile \u001b[39melse\u001b[39;00m \u001b[39m\"\u001b[39m\u001b[39mnonXla\u001b[39m\u001b[39m\"\u001b[39m\n\u001b[1;32m    830\u001b[0m \u001b[39mwith\u001b[39;00m OptionalXlaContext(\u001b[39mself\u001b[39m\u001b[39m.\u001b[39m_jit_compile):\n\u001b[0;32m--> 831\u001b[0m   result \u001b[39m=\u001b[39m \u001b[39mself\u001b[39;49m\u001b[39m.\u001b[39;49m_call(\u001b[39m*\u001b[39;49margs, \u001b[39m*\u001b[39;49m\u001b[39m*\u001b[39;49mkwds)\n\u001b[1;32m    833\u001b[0m new_tracing_count \u001b[39m=\u001b[39m \u001b[39mself\u001b[39m\u001b[39m.\u001b[39mexperimental_get_tracing_count()\n\u001b[1;32m    834\u001b[0m without_tracing \u001b[39m=\u001b[39m (tracing_count \u001b[39m==\u001b[39m new_tracing_count)\n",
      "File \u001b[0;32m~/.local/lib/python3.10/site-packages/tensorflow/python/eager/polymorphic_function/polymorphic_function.py:867\u001b[0m, in \u001b[0;36mFunction._call\u001b[0;34m(self, *args, **kwds)\u001b[0m\n\u001b[1;32m    864\u001b[0m   \u001b[39mself\u001b[39m\u001b[39m.\u001b[39m_lock\u001b[39m.\u001b[39mrelease()\n\u001b[1;32m    865\u001b[0m   \u001b[39m# In this case we have created variables on the first call, so we run the\u001b[39;00m\n\u001b[1;32m    866\u001b[0m   \u001b[39m# defunned version which is guaranteed to never create variables.\u001b[39;00m\n\u001b[0;32m--> 867\u001b[0m   \u001b[39mreturn\u001b[39;00m tracing_compilation\u001b[39m.\u001b[39;49mcall_function(\n\u001b[1;32m    868\u001b[0m       args, kwds, \u001b[39mself\u001b[39;49m\u001b[39m.\u001b[39;49m_no_variable_creation_config\n\u001b[1;32m    869\u001b[0m   )\n\u001b[1;32m    870\u001b[0m \u001b[39melif\u001b[39;00m \u001b[39mself\u001b[39m\u001b[39m.\u001b[39m_variable_creation_config \u001b[39mis\u001b[39;00m \u001b[39mnot\u001b[39;00m \u001b[39mNone\u001b[39;00m:\n\u001b[1;32m    871\u001b[0m   \u001b[39m# Release the lock early so that multiple threads can perform the call\u001b[39;00m\n\u001b[1;32m    872\u001b[0m   \u001b[39m# in parallel.\u001b[39;00m\n\u001b[1;32m    873\u001b[0m   \u001b[39mself\u001b[39m\u001b[39m.\u001b[39m_lock\u001b[39m.\u001b[39mrelease()\n",
      "File \u001b[0;32m~/.local/lib/python3.10/site-packages/tensorflow/python/eager/polymorphic_function/tracing_compilation.py:139\u001b[0m, in \u001b[0;36mcall_function\u001b[0;34m(args, kwargs, tracing_options)\u001b[0m\n\u001b[1;32m    137\u001b[0m bound_args \u001b[39m=\u001b[39m function\u001b[39m.\u001b[39mfunction_type\u001b[39m.\u001b[39mbind(\u001b[39m*\u001b[39margs, \u001b[39m*\u001b[39m\u001b[39m*\u001b[39mkwargs)\n\u001b[1;32m    138\u001b[0m flat_inputs \u001b[39m=\u001b[39m function\u001b[39m.\u001b[39mfunction_type\u001b[39m.\u001b[39munpack_inputs(bound_args)\n\u001b[0;32m--> 139\u001b[0m \u001b[39mreturn\u001b[39;00m function\u001b[39m.\u001b[39;49m_call_flat(  \u001b[39m# pylint: disable=protected-access\u001b[39;49;00m\n\u001b[1;32m    140\u001b[0m     flat_inputs, captured_inputs\u001b[39m=\u001b[39;49mfunction\u001b[39m.\u001b[39;49mcaptured_inputs\n\u001b[1;32m    141\u001b[0m )\n",
      "File \u001b[0;32m~/.local/lib/python3.10/site-packages/tensorflow/python/eager/polymorphic_function/concrete_function.py:1264\u001b[0m, in \u001b[0;36mConcreteFunction._call_flat\u001b[0;34m(self, tensor_inputs, captured_inputs)\u001b[0m\n\u001b[1;32m   1260\u001b[0m possible_gradient_type \u001b[39m=\u001b[39m gradients_util\u001b[39m.\u001b[39mPossibleTapeGradientTypes(args)\n\u001b[1;32m   1261\u001b[0m \u001b[39mif\u001b[39;00m (possible_gradient_type \u001b[39m==\u001b[39m gradients_util\u001b[39m.\u001b[39mPOSSIBLE_GRADIENT_TYPES_NONE\n\u001b[1;32m   1262\u001b[0m     \u001b[39mand\u001b[39;00m executing_eagerly):\n\u001b[1;32m   1263\u001b[0m   \u001b[39m# No tape is watching; skip to running the function.\u001b[39;00m\n\u001b[0;32m-> 1264\u001b[0m   \u001b[39mreturn\u001b[39;00m \u001b[39mself\u001b[39;49m\u001b[39m.\u001b[39;49m_inference_function\u001b[39m.\u001b[39;49mflat_call(args)\n\u001b[1;32m   1265\u001b[0m forward_backward \u001b[39m=\u001b[39m \u001b[39mself\u001b[39m\u001b[39m.\u001b[39m_select_forward_and_backward_functions(\n\u001b[1;32m   1266\u001b[0m     args,\n\u001b[1;32m   1267\u001b[0m     possible_gradient_type,\n\u001b[1;32m   1268\u001b[0m     executing_eagerly)\n\u001b[1;32m   1269\u001b[0m forward_function, args_with_tangents \u001b[39m=\u001b[39m forward_backward\u001b[39m.\u001b[39mforward()\n",
      "File \u001b[0;32m~/.local/lib/python3.10/site-packages/tensorflow/python/eager/polymorphic_function/atomic_function.py:217\u001b[0m, in \u001b[0;36mAtomicFunction.flat_call\u001b[0;34m(self, args)\u001b[0m\n\u001b[1;32m    215\u001b[0m \u001b[39mdef\u001b[39;00m \u001b[39mflat_call\u001b[39m(\u001b[39mself\u001b[39m, args: Sequence[core\u001b[39m.\u001b[39mTensor]) \u001b[39m-\u001b[39m\u001b[39m>\u001b[39m Any:\n\u001b[1;32m    216\u001b[0m \u001b[39m  \u001b[39m\u001b[39m\"\"\"Calls with tensor inputs and returns the structured output.\"\"\"\u001b[39;00m\n\u001b[0;32m--> 217\u001b[0m   flat_outputs \u001b[39m=\u001b[39m \u001b[39mself\u001b[39;49m(\u001b[39m*\u001b[39;49margs)\n\u001b[1;32m    218\u001b[0m   \u001b[39mreturn\u001b[39;00m \u001b[39mself\u001b[39m\u001b[39m.\u001b[39mfunction_type\u001b[39m.\u001b[39mpack_output(flat_outputs)\n",
      "File \u001b[0;32m~/.local/lib/python3.10/site-packages/tensorflow/python/eager/polymorphic_function/atomic_function.py:252\u001b[0m, in \u001b[0;36mAtomicFunction.__call__\u001b[0;34m(self, *args)\u001b[0m\n\u001b[1;32m    250\u001b[0m \u001b[39mwith\u001b[39;00m record\u001b[39m.\u001b[39mstop_recording():\n\u001b[1;32m    251\u001b[0m   \u001b[39mif\u001b[39;00m \u001b[39mself\u001b[39m\u001b[39m.\u001b[39m_bound_context\u001b[39m.\u001b[39mexecuting_eagerly():\n\u001b[0;32m--> 252\u001b[0m     outputs \u001b[39m=\u001b[39m \u001b[39mself\u001b[39;49m\u001b[39m.\u001b[39;49m_bound_context\u001b[39m.\u001b[39;49mcall_function(\n\u001b[1;32m    253\u001b[0m         \u001b[39mself\u001b[39;49m\u001b[39m.\u001b[39;49mname,\n\u001b[1;32m    254\u001b[0m         \u001b[39mlist\u001b[39;49m(args),\n\u001b[1;32m    255\u001b[0m         \u001b[39mlen\u001b[39;49m(\u001b[39mself\u001b[39;49m\u001b[39m.\u001b[39;49mfunction_type\u001b[39m.\u001b[39;49mflat_outputs),\n\u001b[1;32m    256\u001b[0m     )\n\u001b[1;32m    257\u001b[0m   \u001b[39melse\u001b[39;00m:\n\u001b[1;32m    258\u001b[0m     outputs \u001b[39m=\u001b[39m make_call_op_in_graph(\n\u001b[1;32m    259\u001b[0m         \u001b[39mself\u001b[39m,\n\u001b[1;32m    260\u001b[0m         \u001b[39mlist\u001b[39m(args),\n\u001b[1;32m    261\u001b[0m         \u001b[39mself\u001b[39m\u001b[39m.\u001b[39m_bound_context\u001b[39m.\u001b[39mfunction_call_options\u001b[39m.\u001b[39mas_attrs(),\n\u001b[1;32m    262\u001b[0m     )\n",
      "File \u001b[0;32m~/.local/lib/python3.10/site-packages/tensorflow/python/eager/context.py:1479\u001b[0m, in \u001b[0;36mContext.call_function\u001b[0;34m(self, name, tensor_inputs, num_outputs)\u001b[0m\n\u001b[1;32m   1477\u001b[0m cancellation_context \u001b[39m=\u001b[39m cancellation\u001b[39m.\u001b[39mcontext()\n\u001b[1;32m   1478\u001b[0m \u001b[39mif\u001b[39;00m cancellation_context \u001b[39mis\u001b[39;00m \u001b[39mNone\u001b[39;00m:\n\u001b[0;32m-> 1479\u001b[0m   outputs \u001b[39m=\u001b[39m execute\u001b[39m.\u001b[39;49mexecute(\n\u001b[1;32m   1480\u001b[0m       name\u001b[39m.\u001b[39;49mdecode(\u001b[39m\"\u001b[39;49m\u001b[39mutf-8\u001b[39;49m\u001b[39m\"\u001b[39;49m),\n\u001b[1;32m   1481\u001b[0m       num_outputs\u001b[39m=\u001b[39;49mnum_outputs,\n\u001b[1;32m   1482\u001b[0m       inputs\u001b[39m=\u001b[39;49mtensor_inputs,\n\u001b[1;32m   1483\u001b[0m       attrs\u001b[39m=\u001b[39;49mattrs,\n\u001b[1;32m   1484\u001b[0m       ctx\u001b[39m=\u001b[39;49m\u001b[39mself\u001b[39;49m,\n\u001b[1;32m   1485\u001b[0m   )\n\u001b[1;32m   1486\u001b[0m \u001b[39melse\u001b[39;00m:\n\u001b[1;32m   1487\u001b[0m   outputs \u001b[39m=\u001b[39m execute\u001b[39m.\u001b[39mexecute_with_cancellation(\n\u001b[1;32m   1488\u001b[0m       name\u001b[39m.\u001b[39mdecode(\u001b[39m\"\u001b[39m\u001b[39mutf-8\u001b[39m\u001b[39m\"\u001b[39m),\n\u001b[1;32m   1489\u001b[0m       num_outputs\u001b[39m=\u001b[39mnum_outputs,\n\u001b[0;32m   (...)\u001b[0m\n\u001b[1;32m   1493\u001b[0m       cancellation_manager\u001b[39m=\u001b[39mcancellation_context,\n\u001b[1;32m   1494\u001b[0m   )\n",
      "File \u001b[0;32m~/.local/lib/python3.10/site-packages/tensorflow/python/eager/execute.py:60\u001b[0m, in \u001b[0;36mquick_execute\u001b[0;34m(op_name, num_outputs, inputs, attrs, ctx, name)\u001b[0m\n\u001b[1;32m     53\u001b[0m   \u001b[39m# Convert any objects of type core_types.Tensor to Tensor.\u001b[39;00m\n\u001b[1;32m     54\u001b[0m   inputs \u001b[39m=\u001b[39m [\n\u001b[1;32m     55\u001b[0m       tensor_conversion_registry\u001b[39m.\u001b[39mconvert(t)\n\u001b[1;32m     56\u001b[0m       \u001b[39mif\u001b[39;00m \u001b[39misinstance\u001b[39m(t, core_types\u001b[39m.\u001b[39mTensor)\n\u001b[1;32m     57\u001b[0m       \u001b[39melse\u001b[39;00m t\n\u001b[1;32m     58\u001b[0m       \u001b[39mfor\u001b[39;00m t \u001b[39min\u001b[39;00m inputs\n\u001b[1;32m     59\u001b[0m   ]\n\u001b[0;32m---> 60\u001b[0m   tensors \u001b[39m=\u001b[39m pywrap_tfe\u001b[39m.\u001b[39;49mTFE_Py_Execute(ctx\u001b[39m.\u001b[39;49m_handle, device_name, op_name,\n\u001b[1;32m     61\u001b[0m                                       inputs, attrs, num_outputs)\n\u001b[1;32m     62\u001b[0m \u001b[39mexcept\u001b[39;00m core\u001b[39m.\u001b[39m_NotOkStatusException \u001b[39mas\u001b[39;00m e:\n\u001b[1;32m     63\u001b[0m   \u001b[39mif\u001b[39;00m name \u001b[39mis\u001b[39;00m \u001b[39mnot\u001b[39;00m \u001b[39mNone\u001b[39;00m:\n",
      "\u001b[0;31mKeyboardInterrupt\u001b[0m: "
     ]
    }
   ],
   "source": [
    "\n",
    "# Train the model\n",
    "history = unet.fit(train_images_dataset, epochs=10, validation_data=val_images_dataset)\n",
    "\n",
    "# Plot training & validation accuracy values\n",
    "plt.plot(history.history['accuracy'])\n",
    "plt.plot(history.history['val_accuracy'])\n",
    "plt.title('Model Accuracy')\n",
    "plt.ylabel('Accuracy')\n",
    "plt.xlabel('Epoch')\n",
    "plt.legend(['Train', 'Validation'], loc='upper left')\n",
    "plt.show()\n",
    "\n",
    "# Plot training & validation loss values\n",
    "plt.plot(history.history['loss'])\n",
    "plt.plot(history.history['val_loss'])\n",
    "plt.title('Model Loss')\n",
    "plt.ylabel('Loss')\n",
    "plt.xlabel('Epoch')\n",
    "plt.legend(['Train', 'Validation'], loc='upper left')\n",
    "plt.show()"
   ]
  }
 ],
 "metadata": {
  "kernelspec": {
   "display_name": "Python 3",
   "language": "python",
   "name": "python3"
  },
  "language_info": {
   "codemirror_mode": {
    "name": "ipython",
    "version": 3
   },
   "file_extension": ".py",
   "mimetype": "text/x-python",
   "name": "python",
   "nbconvert_exporter": "python",
   "pygments_lexer": "ipython3",
   "version": "3.10.12"
  }
 },
 "nbformat": 4,
 "nbformat_minor": 2
}
