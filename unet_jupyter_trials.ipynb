{
 "cells": [
  {
   "cell_type": "markdown",
   "metadata": {},
   "source": [
    "# Modules imports"
   ]
  },
  {
   "cell_type": "code",
   "execution_count": 12,
   "metadata": {},
   "outputs": [],
   "source": [
    "import os\n",
    "import matplotlib.pyplot as plt # Needed when showing examples\n",
    "import cv2                      # Needed when showing examples\n",
    "import numpy as np\n",
    "\n",
    "os.environ[\"TF_CPP_MIN_LOG_LEVEL\"] = \"3\"  # ignore TF unsupported NUMA warnings\n",
    "\n",
    "\n",
    "# Filter out TFA warning\n",
    "#import warnings\n",
    "#warnings.filterwarnings(\"ignore\", message=\"TFA has entered a minimal maintenance and release mode\", category=Warning)\n",
    "\n",
    "\n",
    "import tensorflow as tf\n",
    "import tensorflow_addons as tfa\n",
    "\n",
    "\n",
    "# Avoid OOM errors by setting GPU Memory Consumption Growth\n",
    "#gpus = tf.config.experimental.list_physical_devices('GPU')\n",
    "#for gpu in gpus: \n",
    "#    tf.config.experimental.set_memory_growth(gpu, True)\n"
   ]
  },
  {
   "cell_type": "markdown",
   "metadata": {},
   "source": [
    "# Hyperparameters"
   ]
  },
  {
   "cell_type": "code",
   "execution_count": 13,
   "metadata": {},
   "outputs": [],
   "source": [
    "BATCH_SIZE = 3"
   ]
  },
  {
   "cell_type": "markdown",
   "metadata": {},
   "source": [
    "# Importing dataset"
   ]
  },
  {
   "cell_type": "code",
   "execution_count": 14,
   "metadata": {},
   "outputs": [
    {
     "name": "stdout",
     "output_type": "stream",
     "text": [
      "Started dataset loading...\n"
     ]
    }
   ],
   "source": [
    "print(\"Started dataset loading...\")\n",
    "\n",
    "#input_path = \"/mnt/c/Users/jacop/Desktop/DL_Project/processed_dataset/\" #if in wsl\n",
    "input_path = \"/mnt/c/Users/vitto/Desktop/DL project/DL project github/processed_dataset/\" #if in wsl\n",
    "#input_path = r\"C:\\Users\\vitto\\Desktop\\DL project\\DL project github\\processed_dataset\"  # if in windows\n",
    "#input_path = r\"C:\\Users\\jacop\\Desktop\\DL_Project\\processed_dataset\"  # if in windows\n",
    "\n",
    "\n",
    "# =========== Images =========== #\n",
    "\n",
    "\n",
    "# Definizione della funzione per l'elaborazione delle immagini\n",
    "def process_image(x):\n",
    "    # Leggi il contenuto del file immagine come sequenza di byte\n",
    "    byte_img = tf.io.read_file(x)\n",
    "    # Decodifica l'immagine utilizzando il formato JPEG\n",
    "    img = tf.io.decode_jpeg(byte_img)\n",
    "    # Convert images to grayscale\n",
    "    img = tf.image.rgb_to_grayscale(img)\n",
    "    img = tf.squeeze(img, axis=-1)\n",
    "    # Normalizza i valori dei pixel nell'intervallo [0, 1]\n",
    "    img = img / 255\n",
    "    return img\n",
    "\n",
    "\n",
    "# Creazione di un dataset per le immagini di addestramento\n",
    "train_images = tf.data.Dataset.list_files(\n",
    "    input_path + \"/images/train/*.jpg\", shuffle=False\n",
    ")\n",
    "# Applica la funzione process_image a ciascun elemento del dataset\n",
    "train_images = train_images.map(process_image)\n",
    "\n",
    "# Creazione di un dataset per le immagini di test\n",
    "test_images = tf.data.Dataset.list_files(\n",
    "    input_path + \"/images/test/*.jpg\", shuffle=False\n",
    ")\n",
    "# Applica la funzione process_image a ciascun elemento del dataset\n",
    "test_images = test_images.map(process_image)\n",
    "\n",
    "# Creazione di un dataset per le immagini di validazione\n",
    "val_images = tf.data.Dataset.list_files(input_path + \"/images/val/*.jpg\", shuffle=False)\n",
    "# Applica la funzione process_image a ciascun elemento del dataset\n",
    "val_images = val_images.map(process_image)\n",
    "\n",
    "\n",
    "# =========== Labels =========== #\n",
    "\n",
    "\n",
    "# Definizione di una funzione per caricare le etichette da un file di testo\n",
    "def load_labels(path):\n",
    "    # Inizializza una lista vuota per le etichette\n",
    "    landmarks = []\n",
    "\n",
    "    # Apre il file di etichette specificato da `path` in modalità di lettura con encoding \"utf-8\"\n",
    "    with open(path.numpy(), \"r\", encoding=\"utf-8\") as file:\n",
    "        # Salta la prima riga del file\n",
    "        next(file, None)\n",
    "\n",
    "        # Itera attraverso le righe rimanenti nel file\n",
    "        for line in file:\n",
    "            # Divide ciascuna riga in colonne utilizzando il carattere di tabulazione '\\t' come delimitatore\n",
    "            columns = line.strip().split(\"\\t\")\n",
    "\n",
    "            # Estrae i valori X e Y dalle colonne 1 e 2 (considerando gli indici 0-based)\n",
    "            # e li converte in valori float. Inoltre, li normalizza dividendo per 256\n",
    "            x_value = float(columns[1]) / 256\n",
    "            y_value = float(columns[2]) / 256\n",
    "\n",
    "            # Aggiunge i valori X e Y normalizzati alla lista `landmarks`\n",
    "            landmarks.extend([x_value, y_value])\n",
    "\n",
    "    # Convert `landmarks` to a NumPy array\n",
    "    return np.array(landmarks)\n",
    "\n",
    "\n",
    "# Create train, test and val label dataset and load their labels using the corresponding function\n",
    "train_labels = tf.data.Dataset.list_files(input_path + \"/labels/train/*.txt\", shuffle=False)\n",
    "train_labels = train_labels.map(lambda x: tf.py_function(load_labels, [x], [tf.float16]))\n",
    "\n",
    "test_labels = tf.data.Dataset.list_files(input_path + \"/labels/test/*.txt\", shuffle=False)\n",
    "test_labels = test_labels.map(lambda x: tf.py_function(load_labels, [x], [tf.float16]))\n",
    "\n",
    "val_labels = tf.data.Dataset.list_files(input_path + \"/labels/val/*.txt\", shuffle=False)\n",
    "val_labels = val_labels.map(lambda x: tf.py_function(load_labels, [x], [tf.float16]))\n",
    "\n",
    "\n",
    "# =========== Combine Images and Labels =========== #\n",
    "\n",
    "# Creazione del dataset di addestramento combinando immagini ed etichette\n",
    "train = tf.data.Dataset.zip((train_images, train_labels))\n",
    "test = tf.data.Dataset.zip((test_images, test_labels))\n",
    "val = tf.data.Dataset.zip((val_images, val_labels))\n",
    "\n"
   ]
  },
  {
   "cell_type": "markdown",
   "metadata": {},
   "source": [
    "# U-Net\n",
    "\n",
    "Creating generators"
   ]
  },
  {
   "cell_type": "code",
   "execution_count": 15,
   "metadata": {},
   "outputs": [
    {
     "name": "stdout",
     "output_type": "stream",
     "text": [
      "Started U-Net training...\n"
     ]
    },
    {
     "ename": "InvalidArgumentError",
     "evalue": "{{function_node __wrapped__IteratorGetNext_output_types_1_device_/job:localhost/replica:0/task:0/device:CPU:0}} Matrix size-incompatible: In[0]: [65536,1], In[1]: [3,1]\n\t [[{{node rgb_to_grayscale/Tensordot/MatMul}}]] [Op:IteratorGetNext] name: ",
     "output_type": "error",
     "traceback": [
      "\u001b[0;31m---------------------------------------------------------------------------\u001b[0m",
      "\u001b[0;31mInvalidArgumentError\u001b[0m                      Traceback (most recent call last)",
      "\u001b[1;32m/mnt/c/Users/vitto/Desktop/DL project/DL Project github/Anatomical_landmarks_eval_CNN/unet_jupyter_trials.ipynb Cell 8\u001b[0m line \u001b[0;36m2\n\u001b[1;32m     <a href='vscode-notebook-cell://wsl%2Bubuntu/mnt/c/Users/vitto/Desktop/DL%20project/DL%20Project%20github/Anatomical_landmarks_eval_CNN/unet_jupyter_trials.ipynb#X10sdnNjb2RlLXJlbW90ZQ%3D%3D?line=21'>22</a>\u001b[0m train_images_dataset \u001b[39m=\u001b[39m tf\u001b[39m.\u001b[39mdata\u001b[39m.\u001b[39mDataset\u001b[39m.\u001b[39mfrom_generator(\n\u001b[1;32m     <a href='vscode-notebook-cell://wsl%2Bubuntu/mnt/c/Users/vitto/Desktop/DL%20project/DL%20Project%20github/Anatomical_landmarks_eval_CNN/unet_jupyter_trials.ipynb#X10sdnNjb2RlLXJlbW90ZQ%3D%3D?line=22'>23</a>\u001b[0m     train_image_generator,\n\u001b[1;32m     <a href='vscode-notebook-cell://wsl%2Bubuntu/mnt/c/Users/vitto/Desktop/DL%20project/DL%20Project%20github/Anatomical_landmarks_eval_CNN/unet_jupyter_trials.ipynb#X10sdnNjb2RlLXJlbW90ZQ%3D%3D?line=23'>24</a>\u001b[0m     output_signature\u001b[39m=\u001b[39m(tf\u001b[39m.\u001b[39mTensorSpec(shape\u001b[39m=\u001b[39m(\u001b[39m256\u001b[39m, \u001b[39m256\u001b[39m, \u001b[39m2\u001b[39m), dtype\u001b[39m=\u001b[39mtf\u001b[39m.\u001b[39mfloat32),\n\u001b[1;32m     <a href='vscode-notebook-cell://wsl%2Bubuntu/mnt/c/Users/vitto/Desktop/DL%20project/DL%20Project%20github/Anatomical_landmarks_eval_CNN/unet_jupyter_trials.ipynb#X10sdnNjb2RlLXJlbW90ZQ%3D%3D?line=24'>25</a>\u001b[0m                       tf\u001b[39m.\u001b[39mTensorSpec(shape\u001b[39m=\u001b[39m(\u001b[39m256\u001b[39m, \u001b[39m256\u001b[39m), dtype\u001b[39m=\u001b[39mtf\u001b[39m.\u001b[39mfloat32))\n\u001b[1;32m     <a href='vscode-notebook-cell://wsl%2Bubuntu/mnt/c/Users/vitto/Desktop/DL%20project/DL%20Project%20github/Anatomical_landmarks_eval_CNN/unet_jupyter_trials.ipynb#X10sdnNjb2RlLXJlbW90ZQ%3D%3D?line=25'>26</a>\u001b[0m     )\n\u001b[1;32m     <a href='vscode-notebook-cell://wsl%2Bubuntu/mnt/c/Users/vitto/Desktop/DL%20project/DL%20Project%20github/Anatomical_landmarks_eval_CNN/unet_jupyter_trials.ipynb#X10sdnNjb2RlLXJlbW90ZQ%3D%3D?line=26'>27</a>\u001b[0m train_images_dataset \u001b[39m=\u001b[39m train_images_dataset\u001b[39m.\u001b[39mshuffle(\u001b[39m1000\u001b[39m)\u001b[39m.\u001b[39mbatch(BATCH_SIZE)\n\u001b[0;32m---> <a href='vscode-notebook-cell://wsl%2Bubuntu/mnt/c/Users/vitto/Desktop/DL%20project/DL%20Project%20github/Anatomical_landmarks_eval_CNN/unet_jupyter_trials.ipynb#X10sdnNjb2RlLXJlbW90ZQ%3D%3D?line=28'>29</a>\u001b[0m val_list \u001b[39m=\u001b[39m \u001b[39mlist\u001b[39;49m(val_images_only)\n\u001b[1;32m     <a href='vscode-notebook-cell://wsl%2Bubuntu/mnt/c/Users/vitto/Desktop/DL%20project/DL%20Project%20github/Anatomical_landmarks_eval_CNN/unet_jupyter_trials.ipynb#X10sdnNjb2RlLXJlbW90ZQ%3D%3D?line=32'>33</a>\u001b[0m \u001b[39m# Create a generator function to yield the combined image tensor for validation\u001b[39;00m\n\u001b[1;32m     <a href='vscode-notebook-cell://wsl%2Bubuntu/mnt/c/Users/vitto/Desktop/DL%20project/DL%20Project%20github/Anatomical_landmarks_eval_CNN/unet_jupyter_trials.ipynb#X10sdnNjb2RlLXJlbW90ZQ%3D%3D?line=33'>34</a>\u001b[0m \u001b[39mdef\u001b[39;00m \u001b[39mval_image_generator\u001b[39m():\n",
      "File \u001b[0;32m~/.local/lib/python3.10/site-packages/tensorflow/python/data/ops/iterator_ops.py:809\u001b[0m, in \u001b[0;36mOwnedIterator.__next__\u001b[0;34m(self)\u001b[0m\n\u001b[1;32m    807\u001b[0m \u001b[39mdef\u001b[39;00m \u001b[39m__next__\u001b[39m(\u001b[39mself\u001b[39m):\n\u001b[1;32m    808\u001b[0m   \u001b[39mtry\u001b[39;00m:\n\u001b[0;32m--> 809\u001b[0m     \u001b[39mreturn\u001b[39;00m \u001b[39mself\u001b[39;49m\u001b[39m.\u001b[39;49m_next_internal()\n\u001b[1;32m    810\u001b[0m   \u001b[39mexcept\u001b[39;00m errors\u001b[39m.\u001b[39mOutOfRangeError:\n\u001b[1;32m    811\u001b[0m     \u001b[39mraise\u001b[39;00m \u001b[39mStopIteration\u001b[39;00m\n",
      "File \u001b[0;32m~/.local/lib/python3.10/site-packages/tensorflow/python/data/ops/iterator_ops.py:772\u001b[0m, in \u001b[0;36mOwnedIterator._next_internal\u001b[0;34m(self)\u001b[0m\n\u001b[1;32m    769\u001b[0m \u001b[39m# TODO(b/77291417): This runs in sync mode as iterators use an error status\u001b[39;00m\n\u001b[1;32m    770\u001b[0m \u001b[39m# to communicate that there is no more data to iterate over.\u001b[39;00m\n\u001b[1;32m    771\u001b[0m \u001b[39mwith\u001b[39;00m context\u001b[39m.\u001b[39mexecution_mode(context\u001b[39m.\u001b[39mSYNC):\n\u001b[0;32m--> 772\u001b[0m   ret \u001b[39m=\u001b[39m gen_dataset_ops\u001b[39m.\u001b[39;49miterator_get_next(\n\u001b[1;32m    773\u001b[0m       \u001b[39mself\u001b[39;49m\u001b[39m.\u001b[39;49m_iterator_resource,\n\u001b[1;32m    774\u001b[0m       output_types\u001b[39m=\u001b[39;49m\u001b[39mself\u001b[39;49m\u001b[39m.\u001b[39;49m_flat_output_types,\n\u001b[1;32m    775\u001b[0m       output_shapes\u001b[39m=\u001b[39;49m\u001b[39mself\u001b[39;49m\u001b[39m.\u001b[39;49m_flat_output_shapes)\n\u001b[1;32m    777\u001b[0m   \u001b[39mtry\u001b[39;00m:\n\u001b[1;32m    778\u001b[0m     \u001b[39m# Fast path for the case `self._structure` is not a nested structure.\u001b[39;00m\n\u001b[1;32m    779\u001b[0m     \u001b[39mreturn\u001b[39;00m \u001b[39mself\u001b[39m\u001b[39m.\u001b[39m_element_spec\u001b[39m.\u001b[39m_from_compatible_tensor_list(ret)  \u001b[39m# pylint: disable=protected-access\u001b[39;00m\n",
      "File \u001b[0;32m~/.local/lib/python3.10/site-packages/tensorflow/python/ops/gen_dataset_ops.py:3028\u001b[0m, in \u001b[0;36miterator_get_next\u001b[0;34m(iterator, output_types, output_shapes, name)\u001b[0m\n\u001b[1;32m   3026\u001b[0m   \u001b[39mreturn\u001b[39;00m _result\n\u001b[1;32m   3027\u001b[0m \u001b[39mexcept\u001b[39;00m _core\u001b[39m.\u001b[39m_NotOkStatusException \u001b[39mas\u001b[39;00m e:\n\u001b[0;32m-> 3028\u001b[0m   _ops\u001b[39m.\u001b[39;49mraise_from_not_ok_status(e, name)\n\u001b[1;32m   3029\u001b[0m \u001b[39mexcept\u001b[39;00m _core\u001b[39m.\u001b[39m_FallbackException:\n\u001b[1;32m   3030\u001b[0m   \u001b[39mpass\u001b[39;00m\n",
      "File \u001b[0;32m~/.local/lib/python3.10/site-packages/tensorflow/python/framework/ops.py:5888\u001b[0m, in \u001b[0;36mraise_from_not_ok_status\u001b[0;34m(e, name)\u001b[0m\n\u001b[1;32m   5886\u001b[0m \u001b[39mdef\u001b[39;00m \u001b[39mraise_from_not_ok_status\u001b[39m(e, name) \u001b[39m-\u001b[39m\u001b[39m>\u001b[39m NoReturn:\n\u001b[1;32m   5887\u001b[0m   e\u001b[39m.\u001b[39mmessage \u001b[39m+\u001b[39m\u001b[39m=\u001b[39m (\u001b[39m\"\u001b[39m\u001b[39m name: \u001b[39m\u001b[39m\"\u001b[39m \u001b[39m+\u001b[39m \u001b[39mstr\u001b[39m(name \u001b[39mif\u001b[39;00m name \u001b[39mis\u001b[39;00m \u001b[39mnot\u001b[39;00m \u001b[39mNone\u001b[39;00m \u001b[39melse\u001b[39;00m \u001b[39m\"\u001b[39m\u001b[39m\"\u001b[39m))\n\u001b[0;32m-> 5888\u001b[0m   \u001b[39mraise\u001b[39;00m core\u001b[39m.\u001b[39m_status_to_exception(e) \u001b[39mfrom\u001b[39;00m \u001b[39mNone\u001b[39;00m\n",
      "\u001b[0;31mInvalidArgumentError\u001b[0m: {{function_node __wrapped__IteratorGetNext_output_types_1_device_/job:localhost/replica:0/task:0/device:CPU:0}} Matrix size-incompatible: In[0]: [65536,1], In[1]: [3,1]\n\t [[{{node rgb_to_grayscale/Tensordot/MatMul}}]] [Op:IteratorGetNext] name: "
     ]
    }
   ],
   "source": [
    "print(\"Started U-Net training...\")\n",
    " \n",
    "# We only need images in this part\n",
    "train_images_only = train.map(lambda x, y: x)\n",
    "test_images_only = test.map(lambda x, y: x)\n",
    "val_images_only = val.map(lambda x, y: x)\n",
    "\n",
    "\n",
    "# Create a generator function to yield the combined image tensor\n",
    "train_list = list(train_images_only)\n",
    "def train_image_generator():\n",
    "    for moving_image in train_list:\n",
    "        # The first image in train_images_only is considered as \"fixed_image\"\n",
    "        fixed_image = train_list[1]\n",
    "\n",
    "        # Combine fixed and moving images into a single tensor\n",
    "        combined_image = tf.stack([fixed_image,moving_image],-1)\n",
    "        yield (combined_image, fixed_image)\n",
    "\n",
    "\n",
    "# Create a TensorFlow dataset from the generator\n",
    "train_images_dataset = tf.data.Dataset.from_generator(\n",
    "    train_image_generator,\n",
    "    output_signature=(tf.TensorSpec(shape=(256, 256, 2), dtype=tf.float32),\n",
    "                      tf.TensorSpec(shape=(256, 256), dtype=tf.float32))\n",
    "    )\n",
    "train_images_dataset = train_images_dataset.shuffle(1000).batch(BATCH_SIZE)\n",
    "\n",
    "val_list = list(val_images_only)\n",
    "\n",
    "\n",
    "\n",
    "# Create a generator function to yield the combined image tensor for validation\n",
    "def val_image_generator():\n",
    "    for moving_image in val_list:\n",
    "        fixed_image = train_list[1]\n",
    "        combined_image = tf.stack([fixed_image, moving_image], -1)\n",
    "        yield (combined_image, fixed_image)\n",
    "\n",
    "# Create a TensorFlow dataset from the generator for validation\n",
    "val_images_dataset = tf.data.Dataset.from_generator(\n",
    "    val_image_generator,\n",
    "    output_signature=(\n",
    "        tf.TensorSpec(shape=(256, 256, 2), dtype=tf.float32),\n",
    "        tf.TensorSpec(shape=(256, 256), dtype=tf.float32)\n",
    "    )\n",
    ")\n",
    "\n",
    "# No need to shuffle for the validation set\n",
    "val_images_dataset = val_images_dataset.batch(BATCH_SIZE)"
   ]
  },
  {
   "cell_type": "markdown",
   "metadata": {},
   "source": [
    "U-net architecture"
   ]
  },
  {
   "cell_type": "code",
   "execution_count": null,
   "metadata": {},
   "outputs": [],
   "source": [
    "input_shape = (256, 256, 2)\n",
    "\n",
    "\n",
    "# Due immagini, una fixed e una moving, prese come input\n",
    "input = tf.keras.layers.Input(shape=input_shape)\n",
    "\n",
    "### Downsampling path ###\n",
    "\n",
    "# Applicazione della funzione di attivazione Leaky ReLU con coefficiente alpha\n",
    "a1 = tf.keras.layers.LeakyReLU(alpha=0.01)(input)\n",
    "\n",
    "# Applicazione di un layer di convoluzione 2D con 64 filtri di dimensione 3x3\n",
    "c1 = tf.keras.layers.Conv2D(64, 3, padding=\"same\", kernel_initializer=\"he_normal\")(a1)\n",
    "\n",
    "# Applicazione del layer di Dropout con un tasso di dropout del 10%\n",
    "c1 = tf.keras.layers.Dropout(0.1)(c1)\n",
    "\n",
    "# Applicazione del max-pooling con una finestra di pooling di dimensione 2x2\n",
    "p1 = tf.keras.layers.MaxPooling2D(pool_size=(2, 2))(c1)\n",
    "\n",
    "\n",
    "a2 = tf.keras.layers.LeakyReLU(alpha=0.01)(p1)\n",
    "c2 = tf.keras.layers.Conv2D(128, 3, padding=\"same\", kernel_initializer=\"he_normal\")(a2)\n",
    "c2 = tf.keras.layers.Dropout(0.1)(c2)\n",
    "p2 = tf.keras.layers.MaxPooling2D(pool_size=(2, 2))(c2)\n",
    "\n",
    "a3 = tf.keras.layers.LeakyReLU(alpha=0.01)(p2)\n",
    "c3 = tf.keras.layers.Conv2D(256, 3, padding=\"same\", kernel_initializer=\"he_normal\")(a3)\n",
    "c3 = tf.keras.layers.Dropout(0.2)(c3)\n",
    "p3 = tf.keras.layers.MaxPooling2D(pool_size=(2, 2))(c3)\n",
    "\n",
    "a4 = tf.keras.layers.LeakyReLU(alpha=0.01)(p3)\n",
    "c4 = tf.keras.layers.Conv2D(512, 3, padding=\"same\", kernel_initializer=\"he_normal\")(a4)\n",
    "c4 = tf.keras.layers.Dropout(0.2)(c4)\n",
    "p4 = tf.keras.layers.MaxPooling2D(pool_size=(2, 2))(c4)\n",
    "\n",
    "a5 = tf.keras.layers.LeakyReLU(alpha=0.01)(p4)\n",
    "c5 = tf.keras.layers.Conv2D(1024, 3, padding=\"same\", kernel_initializer=\"he_normal\")(a5)\n",
    "c5 = tf.keras.layers.Dropout(0.3)(c5)\n",
    "\n",
    "### Upsampling path ###\n",
    "\n",
    "# Decodifica dell'output dell'encoder con la trasposizione della convoluzione 2D\n",
    "u6 = tf.keras.layers.Conv2DTranspose(512, (2, 2), strides=(2, 2), padding=\"same\")(c5)\n",
    "u6 = tf.keras.layers.concatenate(\n",
    "    [u6, c4]\n",
    ")  # Concatenazione dell'output con gli strati dell'encoder precedenti\n",
    "a6 = tf.keras.layers.LeakyReLU(alpha=0.01)(u6)  # Applicazione di Leaky ReLU\n",
    "c6 = tf.keras.layers.Conv2D(512, 3, padding=\"same\", kernel_initializer=\"he_normal\")(\n",
    "    a6\n",
    ")  # Convoluzione 2D\n",
    "c6 = tf.keras.layers.Dropout(0.3)(c6)  # Applicazione di Dropout\n",
    "\n",
    "u7 = tf.keras.layers.Conv2DTranspose(256, (2, 2), strides=(2, 2), padding=\"same\")(c6)\n",
    "u7 = tf.keras.layers.concatenate([u7, c3])\n",
    "a7 = tf.keras.layers.LeakyReLU(alpha=0.01)(u7)\n",
    "c7 = tf.keras.layers.Conv2D(256, 3, padding=\"same\", kernel_initializer=\"he_normal\")(a7)\n",
    "c7 = tf.keras.layers.Dropout(0.2)(c7)\n",
    "\n",
    "u8 = tf.keras.layers.Conv2DTranspose(128, (2, 2), strides=(2, 2), padding=\"same\")(c7)\n",
    "u8 = tf.keras.layers.concatenate([u8, c2])\n",
    "a8 = tf.keras.layers.LeakyReLU(alpha=0.01)(u8)\n",
    "c8 = tf.keras.layers.Conv2D(128, 3, padding=\"same\", kernel_initializer=\"he_normal\")(a8)\n",
    "c8 = tf.keras.layers.Dropout(0.2)(c8)\n",
    "\n",
    "u9 = tf.keras.layers.Conv2DTranspose(64, (2, 2), strides=(2, 2), padding=\"same\")(c8)\n",
    "u9 = tf.keras.layers.concatenate([u9, c1])\n",
    "a9 = tf.keras.layers.LeakyReLU(alpha=0.01)(u9)\n",
    "c9 = tf.keras.layers.Conv2D(64, 3, padding=\"same\", kernel_initializer=\"he_normal\")(a9)\n",
    "c9 = tf.keras.layers.Dropout(0.1)(c9)\n",
    "\n",
    "# Creazione dell'output finale del modello\n",
    "c10 = tf.keras.layers.Conv2D(2, 1, padding=\"same\", kernel_initializer=\"he_normal\")(c9)\n",
    "\n",
    "# Creazione di un tensore di deformazione\n",
    "displacement_tensor = tf.keras.layers.Conv2D(\n",
    "    2, kernel_size=3,activation='linear', padding=\"same\", name=\"disp\"\n",
    ")(c10)\n",
    "\n",
    "# Define the function to extract the \"bottom\" tensor\n",
    "def extract_moving_img(input):\n",
    "    return input[:, :, :, 1:2]\n",
    "moving_image = tf.keras.layers.Lambda(extract_moving_img)(input)\n",
    "\n",
    "# Creazione di una funzione per applicare la trasformazione di deformazione all'immagine di input\n",
    "def apply_deformation(inputs):\n",
    "    #unpacking dell'input\n",
    "    image, displacement_tensor = inputs\n",
    "    # Applica la trasformazione di deformazione all'immagine di input utilizzando il tensore di deformazione\n",
    "    deformed_image = tfa.image.dense_image_warp(image, displacement_tensor)\n",
    "    return deformed_image\n",
    "\n",
    "def_image = tf.keras.layers.Lambda(apply_deformation)([moving_image,displacement_tensor])\n",
    "\n",
    "output = def_image"
   ]
  },
  {
   "cell_type": "markdown",
   "metadata": {},
   "source": [
    "Model Initialization"
   ]
  },
  {
   "cell_type": "code",
   "execution_count": null,
   "metadata": {},
   "outputs": [],
   "source": [
    "# Create the U-Net model\n",
    "unet = tf.keras.Model(inputs=input, outputs=output)\n",
    "\n",
    "# Create the custom loss (mse for now)\n",
    "def custom_loss(y_true, y_pred):\n",
    "    return tf.losses.mean_squared_error(y_true, y_pred)*1/(256*256)\n",
    "\n",
    "\n",
    "unet.compile(loss=custom_loss, optimizer='adam', metrics=['accuracy'])\n",
    "#unet.summary()"
   ]
  },
  {
   "cell_type": "markdown",
   "metadata": {},
   "source": [
    "Model Training"
   ]
  },
  {
   "cell_type": "code",
   "execution_count": null,
   "metadata": {},
   "outputs": [
    {
     "name": "stdout",
     "output_type": "stream",
     "text": [
      "Epoch 1/10\n"
     ]
    },
    {
     "name": "stdout",
     "output_type": "stream",
     "text": [
      "258/258 [==============================] - 36s 90ms/step - loss: 2.1512e-06 - accuracy: 0.1337 - val_loss: 2.0908e-06 - val_accuracy: 0.1376\n",
      "Epoch 2/10\n",
      "258/258 [==============================] - 23s 84ms/step - loss: 2.0493e-06 - accuracy: 0.1370 - val_loss: 2.0276e-06 - val_accuracy: 0.1393\n",
      "Epoch 3/10\n",
      "258/258 [==============================] - 22s 84ms/step - loss: 1.9955e-06 - accuracy: 0.1383 - val_loss: 1.9614e-06 - val_accuracy: 0.1411\n",
      "Epoch 4/10\n",
      "258/258 [==============================] - 22s 84ms/step - loss: 1.9466e-06 - accuracy: 0.1391 - val_loss: 1.9147e-06 - val_accuracy: 0.1416\n",
      "Epoch 5/10\n",
      "258/258 [==============================] - 22s 83ms/step - loss: 1.8959e-06 - accuracy: 0.1395 - val_loss: 1.8759e-06 - val_accuracy: 0.1416\n",
      "Epoch 6/10\n",
      "258/258 [==============================] - 22s 83ms/step - loss: 1.8331e-06 - accuracy: 0.1401 - val_loss: 1.8278e-06 - val_accuracy: 0.1424\n",
      "Epoch 7/10\n",
      "258/258 [==============================] - 22s 83ms/step - loss: 1.7611e-06 - accuracy: 0.1412 - val_loss: 1.7954e-06 - val_accuracy: 0.1439\n",
      "Epoch 8/10\n",
      "258/258 [==============================] - 22s 83ms/step - loss: 1.7045e-06 - accuracy: 0.1423 - val_loss: 1.7473e-06 - val_accuracy: 0.1453\n",
      "Epoch 9/10\n",
      "258/258 [==============================] - 22s 83ms/step - loss: 1.6341e-06 - accuracy: 0.1437 - val_loss: 1.6685e-06 - val_accuracy: 0.1464\n",
      "Epoch 10/10\n",
      "258/258 [==============================] - 22s 83ms/step - loss: 1.5323e-06 - accuracy: 0.1456 - val_loss: 1.5563e-06 - val_accuracy: 0.1493\n"
     ]
    },
    {
     "data": {
      "image/png": "[encoded data removed]",
      "text/plain": [
       "<Figure size 640x480 with 1 Axes>"
      ]
     },
     "metadata": {},
     "output_type": "display_data"
    },
    {
     "data": {
      "image/png": "[encoded data removed]",
      "text/plain": [
       "<Figure size 640x480 with 1 Axes>"
      ]
     },
     "metadata": {},
     "output_type": "display_data"
    },
    {
     "data": {
      "text/plain": [
       "<Figure size 640x480 with 0 Axes>"
      ]
     },
     "metadata": {},
     "output_type": "display_data"
    }
   ],
   "source": [
    "\n",
    "# Train the model\n",
    "history = unet.fit(train_images_dataset, epochs=10, validation_data=val_images_dataset)\n",
    "\n",
    "# Plot training & validation accuracy values\n",
    "plt.plot(history.history['accuracy'])\n",
    "plt.plot(history.history['val_accuracy'])\n",
    "plt.title('Model Accuracy')\n",
    "plt.ylabel('Accuracy')\n",
    "plt.xlabel('Epoch')\n",
    "plt.legend(['Train', 'Validation'], loc='upper left')\n",
    "plt.show()\n",
    "plt.savefig('accuracy1.png')\n",
    "\n",
    "# Plot training & validation loss values\n",
    "plt.plot(history.history['loss'])\n",
    "plt.plot(history.history['val_loss'])\n",
    "plt.title('Model Loss')\n",
    "plt.ylabel('Loss')\n",
    "plt.xlabel('Epoch')\n",
    "plt.legend(['Train', 'Validation'], loc='upper left')\n",
    "plt.show()\n",
    "plt.savefig('loss1.png')"
   ]
  },
  {
   "cell_type": "markdown",
   "metadata": {},
   "source": [
    "# Testing the model\n"
   ]
  },
  {
   "cell_type": "code",
   "execution_count": null,
   "metadata": {},
   "outputs": [],
   "source": [
    "test_image = test_images_only.as_numpy_iterator().next()\n",
    "\n"
   ]
  }
 ],
 "metadata": {
  "kernelspec": {
   "display_name": "Python 3",
   "language": "python",
   "name": "python3"
  },
  "language_info": {
   "codemirror_mode": {
    "name": "ipython",
    "version": 3
   },
   "file_extension": ".py",
   "mimetype": "text/x-python",
   "name": "python",
   "nbconvert_exporter": "python",
   "pygments_lexer": "ipython3",
   "version": "3.10.12"
  }
 },
 "nbformat": 4,
 "nbformat_minor": 2
}
