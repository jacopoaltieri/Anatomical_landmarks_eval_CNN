{
 "cells": [
  {
   "cell_type": "markdown",
   "metadata": {},
   "source": [
    "# Modules imports"
   ]
  },
  {
   "cell_type": "code",
   "execution_count": 1,
   "metadata": {},
   "outputs": [
    {
     "name": "stderr",
     "output_type": "stream",
     "text": [
      "/home/jacopo/.local/lib/python3.10/site-packages/tensorflow_addons/utils/tfa_eol_msg.py:23: UserWarning: \n",
      "\n",
      "TensorFlow Addons (TFA) has ended development and introduction of new features.\n",
      "TFA has entered a minimal maintenance and release mode until a planned end of life in May 2024.\n",
      "Please modify downstream libraries to take dependencies from other repositories in our TensorFlow community (e.g. Keras, Keras-CV, and Keras-NLP). \n",
      "\n",
      "For more information see: https://github.com/tensorflow/addons/issues/2807 \n",
      "\n",
      "  warnings.warn(\n"
     ]
    }
   ],
   "source": [
    "import os\n",
    "import matplotlib.pyplot as plt \n",
    "import numpy as np\n",
    "import cv2\n",
    "\n",
    "os.environ[\"TF_CPP_MIN_LOG_LEVEL\"] = \"3\"  # ignore TF unsupported NUMA warnings\n",
    "\n",
    "# Filter out TFA warning\n",
    "#import warnings\n",
    "#warnings.filterwarnings(\"ignore\", message=\"TFA has entered a minimal maintenance and release mode\", category=Warning)\n",
    "\n",
    "import tensorflow as tf\n",
    "import tensorflow_addons as tfa\n",
    "\n",
    "\n",
    "# Avoid OOM errors by setting GPU Memory Consumption Growth\n",
    "gpus = tf.config.experimental.list_physical_devices('GPU')\n",
    "for gpu in gpus: \n",
    "   tf.config.experimental.set_memory_growth(gpu, True)\n"
   ]
  },
  {
   "cell_type": "markdown",
   "metadata": {},
   "source": [
    "# Hyperparameters"
   ]
  },
  {
   "cell_type": "code",
   "execution_count": 2,
   "metadata": {},
   "outputs": [],
   "source": [
    "BATCH_SIZE = 3"
   ]
  },
  {
   "cell_type": "markdown",
   "metadata": {},
   "source": [
    "# Importing dataset"
   ]
  },
  {
   "cell_type": "code",
   "execution_count": 3,
   "metadata": {},
   "outputs": [
    {
     "name": "stdout",
     "output_type": "stream",
     "text": [
      "Started dataset loading...\n"
     ]
    }
   ],
   "source": [
    "print(\"Started dataset loading...\")\n",
    "\n",
    "input_path = \"/mnt/c/Users/jacop/Desktop/DL_Project/processed_dataset/\" #if in wsl\n",
    "#input_path = \"/mnt/c/Users/vitto/Desktop/DL project/DL project github/processed_dataset/\" #if in wsl\n",
    "#input_path = r\"C:\\Users\\vitto\\Desktop\\DL project\\DL project github\\processed_dataset\"  # if in windows\n",
    "#input_path = r\"C:\\Users\\jacop\\Desktop\\DL_Project\\processed_dataset\"  # if in windows\n",
    "\n",
    "\n",
    "\n",
    "# Definizione della funzione per l'elaborazione delle immagini\n",
    "def process_image(x):\n",
    "    # Leggi il contenuto del file immagine come sequenza di byte\n",
    "    byte_img = tf.io.read_file(x)\n",
    "    # Decodifica l'immagine utilizzando il formato JPEG\n",
    "    img = tf.io.decode_jpeg(byte_img)\n",
    "    # Convert images to grayscale\n",
    "    img = tf.image.rgb_to_grayscale(img)\n",
    "    img = tf.squeeze(img, axis=-1)\n",
    "    # Normalizza i valori dei pixel nell'intervallo [0, 1]\n",
    "    img = img / 255\n",
    "    return img\n",
    "\n",
    "\n",
    "# Creazione di un dataset per le immagini di addestramento\n",
    "train_images = tf.data.Dataset.list_files(\n",
    "    input_path + \"/images/train/*.jpg\", shuffle=False\n",
    ")\n",
    "# Applica la funzione process_image a ciascun elemento del dataset\n",
    "train_images = train_images.map(process_image)\n",
    "\n",
    "# Creazione di un dataset per le immagini di test\n",
    "test_images = tf.data.Dataset.list_files(\n",
    "    input_path + \"/images/test/*.jpg\", shuffle=False\n",
    ")\n",
    "# Applica la funzione process_image a ciascun elemento del dataset\n",
    "test_images = test_images.map(process_image)\n",
    "\n",
    "# Creazione di un dataset per le immagini di validazione\n",
    "val_images = tf.data.Dataset.list_files(input_path + \"/images/val/*.jpg\", shuffle=False)\n",
    "# Applica la funzione process_image a ciascun elemento del dataset\n",
    "val_images = val_images.map(process_image)\n",
    "\n",
    "\n",
    "# =========== Labels =========== #\n",
    "\n",
    "\n",
    "# Definizione di una funzione per caricare le etichette da un file di testo\n",
    "def load_labels(path):\n",
    "    # Inizializza una lista vuota per le etichette\n",
    "    landmarks = []\n",
    "\n",
    "    # Apre il file di etichette specificato da `path` in modalità di lettura con encoding \"utf-8\"\n",
    "    with open(path.numpy(), \"r\", encoding=\"utf-8\") as file:\n",
    "        # Salta la prima riga del file\n",
    "        next(file, None)\n",
    "\n",
    "        # Itera attraverso le righe rimanenti nel file\n",
    "        for line in file:\n",
    "            # Divide ciascuna riga in colonne utilizzando il carattere di tabulazione '\\t' come delimitatore\n",
    "            columns = line.strip().split(\"\\t\")\n",
    "\n",
    "            # Estrae i valori X e Y dalle colonne 1 e 2 (considerando gli indici 0-based)\n",
    "            # e li converte in valori float. Inoltre, li normalizza dividendo per 256\n",
    "            x_value = float(columns[1]) / 256\n",
    "            y_value = float(columns[2]) / 256\n",
    "\n",
    "            # Aggiunge i valori X e Y normalizzati alla lista `landmarks`\n",
    "            landmarks.extend([x_value, y_value])\n",
    "\n",
    "    # Convert `landmarks` to a NumPy array\n",
    "    return np.array(landmarks)\n",
    "\n",
    "\n",
    "# Create train, test and val label dataset and load their labels using the corresponding function\n",
    "train_labels = tf.data.Dataset.list_files(input_path + \"/labels/train/*.txt\", shuffle=False)\n",
    "train_labels = train_labels.map(lambda x: tf.py_function(load_labels, [x], [tf.float16]))\n",
    "\n",
    "test_labels = tf.data.Dataset.list_files(input_path + \"/labels/test/*.txt\", shuffle=False)\n",
    "test_labels = test_labels.map(lambda x: tf.py_function(load_labels, [x], [tf.float16]))\n",
    "\n",
    "val_labels = tf.data.Dataset.list_files(input_path + \"/labels/val/*.txt\", shuffle=False)\n",
    "val_labels = val_labels.map(lambda x: tf.py_function(load_labels, [x], [tf.float16]))\n",
    "\n",
    "\n",
    "# =========== Combine Images and Labels =========== #\n",
    "\n",
    "# Creazione del dataset di addestramento combinando immagini ed etichette\n",
    "train_dataset = tf.data.Dataset.zip((train_images, train_labels))\n",
    "test_dataset = tf.data.Dataset.zip((test_images, test_labels))\n",
    "val_dataset = tf.data.Dataset.zip((val_images, val_labels))"
   ]
  },
  {
   "cell_type": "markdown",
   "metadata": {},
   "source": [
    "# U-Net\n",
    "\n",
    "Creating generators"
   ]
  },
  {
   "cell_type": "code",
   "execution_count": 4,
   "metadata": {},
   "outputs": [
    {
     "name": "stdout",
     "output_type": "stream",
     "text": [
      "Started U-Net training...\n"
     ]
    }
   ],
   "source": [
    "print(\"Started U-Net training...\")\n",
    " \n",
    "# We only need images in this part\n",
    "train_images_only = train_dataset.map(lambda img, lbl: img)\n",
    "test_images_only = test_dataset.map(lambda img, lbl: img)\n",
    "val_images_only = val_dataset.map(lambda img, lbl: img)\n",
    "\n",
    "\n",
    "train_list = list(train_images_only)\n",
    "val_list = list(val_images_only)\n",
    "\n",
    "fixed_image = train_list[2]\n",
    "\n",
    "def train_image_generator():\n",
    "    for moving_image in train_list:\n",
    "\n",
    "        # Combine fixed and moving images into a single tensor\n",
    "        combined_image = tf.stack([fixed_image,moving_image],-1)\n",
    "        yield (combined_image, fixed_image)\n",
    "\n",
    "\n",
    "# Create a TensorFlow dataset from the generator\n",
    "train_images_dataset = tf.data.Dataset.from_generator(\n",
    "    train_image_generator,\n",
    "    output_signature=(tf.TensorSpec(shape=(256, 256, 2), dtype=tf.float32),\n",
    "                      tf.TensorSpec(shape=(256, 256), dtype=tf.float32))\n",
    "    )\n",
    "train_images_dataset = train_images_dataset.shuffle(1000).batch(BATCH_SIZE)\n",
    "\n",
    "val_list = list(val_images_only)\n",
    "\n",
    "\n",
    "\n",
    "# Create a generator function to yield the combined image tensor for validation\n",
    "def val_image_generator():\n",
    "    for moving_image in val_list:\n",
    "        \n",
    "        combined_image = tf.stack([fixed_image, moving_image], -1)\n",
    "        yield (combined_image, fixed_image)\n",
    "\n",
    "# Create a TensorFlow dataset from the generator for validation\n",
    "val_images_dataset = tf.data.Dataset.from_generator(\n",
    "    val_image_generator,\n",
    "    output_signature=(\n",
    "        tf.TensorSpec(shape=(256, 256, 2), dtype=tf.float32),\n",
    "        tf.TensorSpec(shape=(256, 256), dtype=tf.float32)\n",
    "    )\n",
    ")\n",
    "\n",
    "# No need to shuffle for the validation set\n",
    "val_images_dataset = val_images_dataset.batch(BATCH_SIZE)"
   ]
  },
  {
   "cell_type": "markdown",
   "metadata": {},
   "source": [
    "U-net architecture"
   ]
  },
  {
   "cell_type": "code",
   "execution_count": null,
   "metadata": {},
   "outputs": [],
   "source": [
    "input_shape = (256, 256, 2)\n",
    "\n",
    "\n",
    "# Due immagini, una fixed e una moving, prese come input\n",
    "input = tf.keras.layers.Input(shape=input_shape)\n",
    "\n",
    "### Downsampling path ###\n",
    "\n",
    "# Applicazione della funzione di attivazione Leaky ReLU con coefficiente alpha\n",
    "a1 = tf.keras.layers.LeakyReLU(alpha=0.01)(input)\n",
    "\n",
    "# Applicazione di un layer di convoluzione 2D con 64 filtri di dimensione 3x3\n",
    "c1 = tf.keras.layers.Conv2D(64, 3, padding=\"same\", kernel_initializer=\"he_normal\")(a1)\n",
    "\n",
    "# Appli#cazione del layer di Dropout con un tasso di dropout del 10%\n",
    "c1 = tf.keras.layers.Dropout(0.1)(c1)\n",
    "\n",
    "# Applicazione del max-pooling con una finestra di pooling di dimensione 2x2\n",
    "p1 = tf.keras.layers.MaxPooling2D(pool_size=(2, 2))(c1)\n",
    "\n",
    "\n",
    "a2 = tf.keras.layers.LeakyReLU(alpha=0.01)(p1)\n",
    "c2 = tf.keras.layers.Conv2D(128, 3, padding=\"same\", kernel_initializer=\"he_normal\")(a2)\n",
    "c2 = tf.keras.layers.Dropout(0.1)(c2)\n",
    "p2 = tf.keras.layers.MaxPooling2D(pool_size=(2, 2))(c2)\n",
    "\n",
    "a3 = tf.keras.layers.LeakyReLU(alpha=0.01)(p2)\n",
    "c3 = tf.keras.layers.Conv2D(256, 3, padding=\"same\", kernel_initializer=\"he_normal\")(a3)\n",
    "c3 = tf.keras.layers.Dropout(0.2)(c3)\n",
    "p3 = tf.keras.layers.MaxPooling2D(pool_size=(2, 2))(c3)\n",
    "\n",
    "a4 = tf.keras.layers.LeakyReLU(alpha=0.01)(p3)\n",
    "c4 = tf.keras.layers.Conv2D(512, 3, padding=\"same\", kernel_initializer=\"he_normal\")(a4)\n",
    "c4 = tf.keras.layers.Dropout(0.2)(c4)\n",
    "p4 = tf.keras.layers.MaxPooling2D(pool_size=(2, 2))(c4)\n",
    "\n",
    "a5 = tf.keras.layers.LeakyReLU(alpha=0.01)(p4)\n",
    "c5 = tf.keras.layers.Conv2D(1024, 3, padding=\"same\", kernel_initializer=\"he_normal\")(a5)\n",
    "c5 = tf.keras.layers.Dropout(0.3)(c5)\n",
    "\n",
    "### Upsampling path ###\n",
    "\n",
    "# Decodifica dell'output dell'encoder con la trasposizione della convoluzione 2D\n",
    "u6 = tf.keras.layers.Conv2DTranspose(512, (2, 2), strides=(2, 2), padding=\"same\")(c5)\n",
    "u6 = tf.keras.layers.concatenate(\n",
    "    [u6, c4]\n",
    ")  # Concatenazione dell'output con gli strati dell'encoder precedenti\n",
    "a6 = tf.keras.layers.LeakyReLU(alpha=0.01)(u6)  # Applicazione di Leaky ReLU\n",
    "c6 = tf.keras.layers.Conv2D(512, 3, padding=\"same\", kernel_initializer=\"he_normal\")(\n",
    "    a6\n",
    ")  # Convoluzione 2D\n",
    "c6 = tf.keras.layers.Dropout(0.3)(c6)  # Applicazione di Dropout\n",
    "\n",
    "u7 = tf.keras.layers.Conv2DTranspose(256, (2, 2), strides=(2, 2), padding=\"same\")(c6)\n",
    "u7 = tf.keras.layers.concatenate([u7, c3])\n",
    "a7 = tf.keras.layers.LeakyReLU(alpha=0.01)(u7)\n",
    "c7 = tf.keras.layers.Conv2D(256, 3, padding=\"same\", kernel_initializer=\"he_normal\")(a7)\n",
    "c7 = tf.keras.layers.Dropout(0.2)(c7)\n",
    "\n",
    "u8 = tf.keras.layers.Conv2DTranspose(128, (2, 2), strides=(2, 2), padding=\"same\")(c7)\n",
    "u8 = tf.keras.layers.concatenate([u8, c2])\n",
    "a8 = tf.keras.layers.LeakyReLU(alpha=0.01)(u8)\n",
    "c8 = tf.keras.layers.Conv2D(128, 3, padding=\"same\", kernel_initializer=\"he_normal\")(a8)\n",
    "c8 = tf.keras.layers.Dropout(0.2)(c8)\n",
    "\n",
    "u9 = tf.keras.layers.Conv2DTranspose(64, (2, 2), strides=(2, 2), padding=\"same\")(c8)\n",
    "u9 = tf.keras.layers.concatenate([u9, c1])\n",
    "a9 = tf.keras.layers.LeakyReLU(alpha=0.01)(u9)\n",
    "c9 = tf.keras.layers.Conv2D(64, 3, padding=\"same\", kernel_initializer=\"he_normal\")(a9)\n",
    "c9 = tf.keras.layers.Dropout(0.1)(c9)\n",
    "\n",
    "# Creazione dell'output finale del modello\n",
    "c10 = tf.keras.layers.Conv2D(2, 1, padding=\"same\", kernel_initializer=\"he_normal\")(c9)\n",
    "\n",
    "# Creazione di un tensore di deformazione\n",
    "displacement_tensor = tf.keras.layers.Conv2D(\n",
    "    2, kernel_size=3,activation='linear', padding=\"same\", name=\"disp\"\n",
    ")(c10)\n",
    "\n",
    "# Define the function to extract the \"bottom\" tensor\n",
    "def extract_moving_img(input):\n",
    "    return input[:, :, :, 1:2]\n",
    "\n",
    "moving_image = tf.keras.layers.Lambda(extract_moving_img)(input)\n",
    "\n",
    "# Creazione di una funzione per applicare la trasformazione di deformazione all'immagine di input\n",
    "def apply_deformation(inputs):\n",
    "    #unpacking dell'input\n",
    "    image, displacement_tensor = inputs\n",
    "    # Applica la trasformazione di deformazione all'immagine di input utilizzando il tensore di deformazione\n",
    "    deformed_image = tfa.image.dense_image_warp(image, displacement_tensor)\n",
    "    return deformed_image\n",
    "def_image = tf.keras.layers.Lambda(apply_deformation)([moving_image,displacement_tensor])\n",
    "\n",
    "output = def_image"
   ]
  },
  {
   "cell_type": "markdown",
   "metadata": {},
   "source": [
    "Model Initialization"
   ]
  },
  {
   "cell_type": "code",
   "execution_count": 57,
   "metadata": {},
   "outputs": [],
   "source": [
    "# Create the U-Net model\n",
    "unet = tf.keras.Model(inputs=input, outputs=output)\n",
    "\n",
    "def custom_mse_loss(y_true, y_pred):\n",
    "    # Calcola l'errore quadratico medio tra i tensori y_true e y_pred\n",
    "    mse = tf.reduce_mean(tf.square(y_true - y_pred))\n",
    "    return mse\n",
    "\n",
    "\n",
    "# Compile the model with the custom loss\n",
    "unet.compile(optimizer='adam', loss=custom_mse_loss, metrics='mse')\n"
   ]
  },
  {
   "cell_type": "markdown",
   "metadata": {},
   "source": [
    "Model Training"
   ]
  },
  {
   "cell_type": "code",
   "execution_count": 60,
   "metadata": {},
   "outputs": [
    {
     "name": "stdout",
     "output_type": "stream",
     "text": [
      "Epoch 1/10\n"
     ]
    },
    {
     "name": "stdout",
     "output_type": "stream",
     "text": [
      "258/258 [==============================] - 44s 166ms/step - loss: 0.0307 - mse: 0.0307 - val_loss: 0.0300 - val_mse: 0.0300\n",
      "Epoch 2/10\n",
      "258/258 [==============================] - 44s 167ms/step - loss: 0.0302 - mse: 0.0302 - val_loss: 0.0314 - val_mse: 0.0314\n",
      "Epoch 3/10\n",
      "258/258 [==============================] - 44s 167ms/step - loss: 0.0279 - mse: 0.0279 - val_loss: 0.0284 - val_mse: 0.0284\n",
      "Epoch 4/10\n",
      "258/258 [==============================] - 44s 167ms/step - loss: 0.0278 - mse: 0.0278 - val_loss: 0.0281 - val_mse: 0.0281\n",
      "Epoch 5/10\n",
      "258/258 [==============================] - 44s 166ms/step - loss: 0.0273 - mse: 0.0273 - val_loss: 0.0265 - val_mse: 0.0265\n",
      "Epoch 6/10\n",
      "258/258 [==============================] - 44s 167ms/step - loss: 0.0266 - mse: 0.0266 - val_loss: 0.0292 - val_mse: 0.0292\n",
      "Epoch 7/10\n",
      "258/258 [==============================] - 44s 167ms/step - loss: 0.0248 - mse: 0.0248 - val_loss: 0.0258 - val_mse: 0.0258\n",
      "Epoch 8/10\n",
      "258/258 [==============================] - 44s 167ms/step - loss: 0.0254 - mse: 0.0254 - val_loss: 0.0249 - val_mse: 0.0249\n",
      "Epoch 9/10\n",
      "258/258 [==============================] - 44s 167ms/step - loss: 0.0254 - mse: 0.0254 - val_loss: 0.0250 - val_mse: 0.0250\n",
      "Epoch 10/10\n",
      "258/258 [==============================] - 44s 166ms/step - loss: 0.0250 - mse: 0.0250 - val_loss: 0.0246 - val_mse: 0.0246\n"
     ]
    },
    {
     "data": {
      "image/png": "[encoded data removed]",
      "text/plain": [
       "<Figure size 640x480 with 1 Axes>"
      ]
     },
     "metadata": {},
     "output_type": "display_data"
    },
    {
     "data": {
      "image/png": "[encoded data removed]",
      "text/plain": [
       "<Figure size 640x480 with 1 Axes>"
      ]
     },
     "metadata": {},
     "output_type": "display_data"
    },
    {
     "data": {
      "text/plain": [
       "<Figure size 640x480 with 0 Axes>"
      ]
     },
     "metadata": {},
     "output_type": "display_data"
    }
   ],
   "source": [
    "# Train the model\n",
    "history = unet.fit(train_images_dataset, epochs=10, validation_data=val_images_dataset)\n",
    "\n",
    "# Plot training & validation accuracy values\n",
    "plt.plot(history.history['mse'])\n",
    "plt.plot(history.history['val_mse'])\n",
    "plt.title('mse')\n",
    "plt.ylabel('mse')\n",
    "plt.xlabel('Epoch')\n",
    "plt.legend(['Train', 'Validation'], loc='upper left')\n",
    "plt.show()\n",
    "plt.savefig('acc1.png')\n",
    "\n",
    "# Plot training & validation loss values\n",
    "plt.plot(history.history['loss'])\n",
    "plt.plot(history.history['val_loss'])\n",
    "plt.title('Model Loss')\n",
    "plt.ylabel('Loss')\n",
    "plt.xlabel('Epoch')\n",
    "plt.legend(['Train', 'Validation'], loc='upper left')\n",
    "plt.show()\n",
    "plt.savefig('loss1.png')\n"
   ]
  },
  {
   "cell_type": "markdown",
   "metadata": {},
   "source": [
    "# Testing the model\n"
   ]
  },
  {
   "cell_type": "code",
   "execution_count": 2,
   "metadata": {},
   "outputs": [
    {
     "ename": "NameError",
     "evalue": "name 'test_images_only' is not defined",
     "output_type": "error",
     "traceback": [
      "\u001b[1;31m---------------------------------------------------------------------------\u001b[0m",
      "\u001b[1;31mNameError\u001b[0m                                 Traceback (most recent call last)",
      "\u001b[1;32mc:\\Users\\jacop\\Desktop\\DL_Project\\Anatomical_landmarks_eval_CNN\\unet_jupyter_trials.ipynb Cell 16\u001b[0m line \u001b[0;36m1\n\u001b[1;32m----> <a href='vscode-notebook-cell:/c%3A/Users/jacop/Desktop/DL_Project/Anatomical_landmarks_eval_CNN/unet_jupyter_trials.ipynb#X21sZmlsZQ%3D%3D?line=0'>1</a>\u001b[0m test_image_list \u001b[39m=\u001b[39m \u001b[39mlist\u001b[39m(test_images_only)\n\u001b[0;32m      <a href='vscode-notebook-cell:/c%3A/Users/jacop/Desktop/DL_Project/Anatomical_landmarks_eval_CNN/unet_jupyter_trials.ipynb#X21sZmlsZQ%3D%3D?line=1'>2</a>\u001b[0m test_image \u001b[39m=\u001b[39m test_image_list[\u001b[39m10\u001b[39m]\n\u001b[0;32m      <a href='vscode-notebook-cell:/c%3A/Users/jacop/Desktop/DL_Project/Anatomical_landmarks_eval_CNN/unet_jupyter_trials.ipynb#X21sZmlsZQ%3D%3D?line=2'>3</a>\u001b[0m test_feed \u001b[39m=\u001b[39m tf\u001b[39m.\u001b[39mstack([fixed_image, test_image],\u001b[39m-\u001b[39m\u001b[39m1\u001b[39m)\n",
      "\u001b[1;31mNameError\u001b[0m: name 'test_images_only' is not defined"
     ]
    }
   ],
   "source": [
    "\n",
    "test_image_list = list(test_images_only)\n",
    "test_image = test_image_list[10]\n",
    "test_feed = tf.stack([fixed_image, test_image],-1)\n",
    "test_feed = tf.expand_dims(test_feed, axis=0)\n",
    "results = unet.predict(test_feed)\n",
    "\n",
    "# displacement_model = tf.keras.Model(inputs=unet.input,\n",
    "#                                  outputs=unet.get_layer('disp').output)\n",
    "# displacement_model_output = displacement_model.predict(test_feed)\n",
    "# prova = tfa.image.dense_image_warp(test_image, displacement_model_output)\n",
    "\n",
    "# results = unet.predict(test_feed)\n",
    "predicted_image = results[0, :, :, 0]  # Extract the 2D image from the batch\n",
    "\n",
    "\n",
    "fig, axs = plt.subplots(1, 4, figsize=(15, 15))  # Adjust the figsize as needed\n",
    "\n",
    "axs[0].imshow(fixed_image, cmap='gray')\n",
    "axs[0].set_title('fixed image')\n",
    "\n",
    "axs[1].imshow(test_image, cmap = 'gray')\n",
    "axs[1].set_title('moving image')\n",
    "\n",
    "axs[2].imshow(predicted_image, cmap= 'gray')\n",
    "axs[2].set_title('deformed image')\n",
    "\n",
    "axs[3].imshow(fixed_image,cmap='gray')\n",
    "axs[3].imshow(predicted_image, alpha = 0.6)\n",
    "axs[3].set_title('overlapping image')\n"
   ]
  }
 ],
 "metadata": {
  "kernelspec": {
   "display_name": "Python 3",
   "language": "python",
   "name": "python3"
  },
  "language_info": {
   "codemirror_mode": {
    "name": "ipython",
    "version": 3
   },
   "file_extension": ".py",
   "mimetype": "text/x-python",
   "name": "python",
   "nbconvert_exporter": "python",
   "pygments_lexer": "ipython3",
   "version": "3.11.5"
  }
 },
 "nbformat": 4,
 "nbformat_minor": 2
}
