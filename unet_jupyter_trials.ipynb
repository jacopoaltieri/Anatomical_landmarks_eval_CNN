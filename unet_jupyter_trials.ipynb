{
 "cells": [
  {
   "cell_type": "markdown",
   "metadata": {},
   "source": [
    "# Modules imports"
   ]
  },
  {
   "cell_type": "code",
   "execution_count": 17,
   "metadata": {},
   "outputs": [],
   "source": [
    "import os\n",
    "import matplotlib.pyplot as plt # Needed when showing examples\n",
    "import cv2                      # Needed when showing examples\n",
    "import numpy as np\n",
    "\n",
    "os.environ[\"TF_CPP_MIN_LOG_LEVEL\"] = \"3\"  # ignore TF unsupported NUMA warnings\n",
    "\n",
    "\n",
    "# Filter out TFA warning\n",
    "#import warnings\n",
    "#warnings.filterwarnings(\"ignore\", message=\"TFA has entered a minimal maintenance and release mode\", category=Warning)\n",
    "\n",
    "\n",
    "import tensorflow as tf\n",
    "import tensorflow_addons as tfa\n",
    "\n",
    "\n",
    "# Avoid OOM errors by setting GPU Memory Consumption Growth\n",
    "#gpus = tf.config.experimental.list_physical_devices('GPU')\n",
    "#for gpu in gpus: \n",
    "#    tf.config.experimental.set_memory_growth(gpu, True)\n"
   ]
  },
  {
   "cell_type": "markdown",
   "metadata": {},
   "source": [
    "# Hyperparameters"
   ]
  },
  {
   "cell_type": "code",
   "execution_count": 18,
   "metadata": {},
   "outputs": [],
   "source": [
    "BATCH_SIZE = 3"
   ]
  },
  {
   "cell_type": "markdown",
   "metadata": {},
   "source": [
    "# Importing dataset"
   ]
  },
  {
   "cell_type": "code",
   "execution_count": 19,
   "metadata": {},
   "outputs": [
    {
     "name": "stdout",
     "output_type": "stream",
     "text": [
      "Started dataset loading...\n"
     ]
    }
   ],
   "source": [
    "print(\"Started dataset loading...\")\n",
    "\n",
    "input_path = \"/mnt/c/Users/jacop/Desktop/DL_Project/processed_dataset/\" #if in wsl\n",
    "#input_path = \"/mnt/c/Users/vitto/Desktop/DL project/DL project github/processed_dataset/\" #if in wsl\n",
    "#input_path = r\"C:\\Users\\vitto\\Desktop\\DL project\\DL project github\\processed_dataset\"  # if in windows\n",
    "#input_path = r\"C:\\Users\\jacop\\Desktop\\DL_Project\\processed_dataset\"  # if in windows\n",
    "\n",
    "\n",
    "# =========== Images =========== #\n",
    "\n",
    "\n",
    "# Definizione della funzione per l'elaborazione delle immagini\n",
    "def process_image(x):\n",
    "    # Leggi il contenuto del file immagine come sequenza di byte\n",
    "    byte_img = tf.io.read_file(x)\n",
    "    # Decodifica l'immagine utilizzando il formato JPEG\n",
    "    img = tf.io.decode_jpeg(byte_img)\n",
    "    # Convert images to grayscale\n",
    "    img = tf.image.rgb_to_grayscale(img)\n",
    "    img = tf.squeeze(img, axis=-1)\n",
    "    # Normalizza i valori dei pixel nell'intervallo [0, 1]\n",
    "    img = img / 255\n",
    "    return img\n",
    "\n",
    "\n",
    "# Creazione di un dataset per le immagini di addestramento\n",
    "train_images = tf.data.Dataset.list_files(\n",
    "    input_path + \"/images/train/*.jpg\", shuffle=False\n",
    ")\n",
    "# Applica la funzione process_image a ciascun elemento del dataset\n",
    "train_images = train_images.map(process_image)\n",
    "\n",
    "# Creazione di un dataset per le immagini di test\n",
    "test_images = tf.data.Dataset.list_files(\n",
    "    input_path + \"/images/test/*.jpg\", shuffle=False\n",
    ")\n",
    "# Applica la funzione process_image a ciascun elemento del dataset\n",
    "test_images = test_images.map(process_image)\n",
    "\n",
    "# Creazione di un dataset per le immagini di validazione\n",
    "val_images = tf.data.Dataset.list_files(input_path + \"/images/val/*.jpg\", shuffle=False)\n",
    "# Applica la funzione process_image a ciascun elemento del dataset\n",
    "val_images = val_images.map(process_image)\n",
    "\n",
    "\n",
    "# =========== Labels =========== #\n",
    "\n",
    "\n",
    "# Definizione di una funzione per caricare le etichette da un file di testo\n",
    "def load_labels(path):\n",
    "    # Inizializza una lista vuota per le etichette\n",
    "    landmarks = []\n",
    "\n",
    "    # Apre il file di etichette specificato da `path` in modalità di lettura con encoding \"utf-8\"\n",
    "    with open(path.numpy(), \"r\", encoding=\"utf-8\") as file:\n",
    "        # Salta la prima riga del file\n",
    "        next(file, None)\n",
    "\n",
    "        # Itera attraverso le righe rimanenti nel file\n",
    "        for line in file:\n",
    "            # Divide ciascuna riga in colonne utilizzando il carattere di tabulazione '\\t' come delimitatore\n",
    "            columns = line.strip().split(\"\\t\")\n",
    "\n",
    "            # Estrae i valori X e Y dalle colonne 1 e 2 (considerando gli indici 0-based)\n",
    "            # e li converte in valori float. Inoltre, li normalizza dividendo per 256\n",
    "            x_value = float(columns[1]) / 256\n",
    "            y_value = float(columns[2]) / 256\n",
    "\n",
    "            # Aggiunge i valori X e Y normalizzati alla lista `landmarks`\n",
    "            landmarks.extend([x_value, y_value])\n",
    "\n",
    "    # Convert `landmarks` to a NumPy array\n",
    "    return np.array(landmarks)\n",
    "\n",
    "\n",
    "# Create train, test and val label dataset and load their labels using the corresponding function\n",
    "train_labels = tf.data.Dataset.list_files(input_path + \"/labels/train/*.txt\", shuffle=False)\n",
    "train_labels = train_labels.map(lambda x: tf.py_function(load_labels, [x], [tf.float16]))\n",
    "\n",
    "test_labels = tf.data.Dataset.list_files(input_path + \"/labels/test/*.txt\", shuffle=False)\n",
    "test_labels = test_labels.map(lambda x: tf.py_function(load_labels, [x], [tf.float16]))\n",
    "\n",
    "val_labels = tf.data.Dataset.list_files(input_path + \"/labels/val/*.txt\", shuffle=False)\n",
    "val_labels = val_labels.map(lambda x: tf.py_function(load_labels, [x], [tf.float16]))\n",
    "\n",
    "\n",
    "# =========== Combine Images and Labels =========== #\n",
    "\n",
    "# Creazione del dataset di addestramento combinando immagini ed etichette\n",
    "train = tf.data.Dataset.zip((train_images, train_labels))\n",
    "test = tf.data.Dataset.zip((test_images, test_labels))\n",
    "val = tf.data.Dataset.zip((val_images, val_labels))\n",
    "\n"
   ]
  },
  {
   "cell_type": "markdown",
   "metadata": {},
   "source": [
    "# U-Net\n",
    "\n",
    "Creating generators"
   ]
  },
  {
   "cell_type": "code",
   "execution_count": 20,
   "metadata": {},
   "outputs": [
    {
     "name": "stdout",
     "output_type": "stream",
     "text": [
      "Started U-Net training...\n"
     ]
    }
   ],
   "source": [
    "print(\"Started U-Net training...\")\n",
    " \n",
    "# We only need images in this part\n",
    "train_images_only = train.map(lambda x, y: x)\n",
    "test_images_only = test.map(lambda x, y: x)\n",
    "val_images_only = val.map(lambda x, y: x)\n",
    "\n",
    "\n",
    "# Create a generator function to yield the combined image tensor\n",
    "train_list = list(train_images_only)\n",
    "def train_image_generator():\n",
    "    for moving_image in train_list:\n",
    "        # The first image in train_images_only is considered as \"fixed_image\"\n",
    "        fixed_image = train_list[1]\n",
    "\n",
    "        # Combine fixed and moving images into a single tensor\n",
    "        combined_image = tf.stack([fixed_image,moving_image],-1)\n",
    "        yield (combined_image, fixed_image)\n",
    "\n",
    "\n",
    "# Create a TensorFlow dataset from the generator\n",
    "train_images_dataset = tf.data.Dataset.from_generator(\n",
    "    train_image_generator,\n",
    "    output_signature=(tf.TensorSpec(shape=(256, 256, 2), dtype=tf.float32),\n",
    "                      tf.TensorSpec(shape=(256, 256), dtype=tf.float32))\n",
    "    )\n",
    "train_images_dataset = train_images_dataset.shuffle(1000).batch(BATCH_SIZE)\n",
    "\n",
    "val_list = list(val_images_only)\n",
    "\n",
    "\n",
    "\n",
    "# Create a generator function to yield the combined image tensor for validation\n",
    "def val_image_generator():\n",
    "    for moving_image in val_list:\n",
    "        fixed_image = train_list[1]\n",
    "        combined_image = tf.stack([fixed_image, moving_image], -1)\n",
    "        yield (combined_image, fixed_image)\n",
    "\n",
    "# Create a TensorFlow dataset from the generator for validation\n",
    "val_images_dataset = tf.data.Dataset.from_generator(\n",
    "    val_image_generator,\n",
    "    output_signature=(\n",
    "        tf.TensorSpec(shape=(256, 256, 2), dtype=tf.float32),\n",
    "        tf.TensorSpec(shape=(256, 256), dtype=tf.float32)\n",
    "    )\n",
    ")\n",
    "\n",
    "# No need to shuffle for the validation set\n",
    "val_images_dataset = val_images_dataset.batch(BATCH_SIZE)"
   ]
  },
  {
   "cell_type": "markdown",
   "metadata": {},
   "source": [
    "U-net architecture"
   ]
  },
  {
   "cell_type": "code",
   "execution_count": 21,
   "metadata": {},
   "outputs": [],
   "source": [
    "input_shape = (256, 256, 2)\n",
    "\n",
    "\n",
    "# Due immagini, una fixed e una moving, prese come input\n",
    "input = tf.keras.layers.Input(shape=input_shape)\n",
    "\n",
    "### Downsampling path ###\n",
    "\n",
    "# Applicazione della funzione di attivazione Leaky ReLU con coefficiente alpha\n",
    "a1 = tf.keras.layers.LeakyReLU(alpha=0.01)(input)\n",
    "\n",
    "# Applicazione di un layer di convoluzione 2D con 64 filtri di dimensione 3x3\n",
    "c1 = tf.keras.layers.Conv2D(64, 3, padding=\"same\", kernel_initializer=\"he_normal\")(a1)\n",
    "\n",
    "# Applicazione del layer di Dropout con un tasso di dropout del 10%\n",
    "c1 = tf.keras.layers.Dropout(0.1)(c1)\n",
    "\n",
    "# Applicazione del max-pooling con una finestra di pooling di dimensione 2x2\n",
    "p1 = tf.keras.layers.MaxPooling2D(pool_size=(2, 2))(c1)\n",
    "\n",
    "\n",
    "a2 = tf.keras.layers.LeakyReLU(alpha=0.01)(p1)\n",
    "c2 = tf.keras.layers.Conv2D(128, 3, padding=\"same\", kernel_initializer=\"he_normal\")(a2)\n",
    "c2 = tf.keras.layers.Dropout(0.1)(c2)\n",
    "p2 = tf.keras.layers.MaxPooling2D(pool_size=(2, 2))(c2)\n",
    "\n",
    "a3 = tf.keras.layers.LeakyReLU(alpha=0.01)(p2)\n",
    "c3 = tf.keras.layers.Conv2D(256, 3, padding=\"same\", kernel_initializer=\"he_normal\")(a3)\n",
    "c3 = tf.keras.layers.Dropout(0.2)(c3)\n",
    "p3 = tf.keras.layers.MaxPooling2D(pool_size=(2, 2))(c3)\n",
    "\n",
    "a4 = tf.keras.layers.LeakyReLU(alpha=0.01)(p3)\n",
    "c4 = tf.keras.layers.Conv2D(512, 3, padding=\"same\", kernel_initializer=\"he_normal\")(a4)\n",
    "c4 = tf.keras.layers.Dropout(0.2)(c4)\n",
    "p4 = tf.keras.layers.MaxPooling2D(pool_size=(2, 2))(c4)\n",
    "\n",
    "a5 = tf.keras.layers.LeakyReLU(alpha=0.01)(p4)\n",
    "c5 = tf.keras.layers.Conv2D(1024, 3, padding=\"same\", kernel_initializer=\"he_normal\")(a5)\n",
    "c5 = tf.keras.layers.Dropout(0.3)(c5)\n",
    "\n",
    "### Upsampling path ###\n",
    "\n",
    "# Decodifica dell'output dell'encoder con la trasposizione della convoluzione 2D\n",
    "u6 = tf.keras.layers.Conv2DTranspose(512, (2, 2), strides=(2, 2), padding=\"same\")(c5)\n",
    "u6 = tf.keras.layers.concatenate(\n",
    "    [u6, c4]\n",
    ")  # Concatenazione dell'output con gli strati dell'encoder precedenti\n",
    "a6 = tf.keras.layers.LeakyReLU(alpha=0.01)(u6)  # Applicazione di Leaky ReLU\n",
    "c6 = tf.keras.layers.Conv2D(512, 3, padding=\"same\", kernel_initializer=\"he_normal\")(\n",
    "    a6\n",
    ")  # Convoluzione 2D\n",
    "c6 = tf.keras.layers.Dropout(0.3)(c6)  # Applicazione di Dropout\n",
    "\n",
    "u7 = tf.keras.layers.Conv2DTranspose(256, (2, 2), strides=(2, 2), padding=\"same\")(c6)\n",
    "u7 = tf.keras.layers.concatenate([u7, c3])\n",
    "a7 = tf.keras.layers.LeakyReLU(alpha=0.01)(u7)\n",
    "c7 = tf.keras.layers.Conv2D(256, 3, padding=\"same\", kernel_initializer=\"he_normal\")(a7)\n",
    "c7 = tf.keras.layers.Dropout(0.2)(c7)\n",
    "\n",
    "u8 = tf.keras.layers.Conv2DTranspose(128, (2, 2), strides=(2, 2), padding=\"same\")(c7)\n",
    "u8 = tf.keras.layers.concatenate([u8, c2])\n",
    "a8 = tf.keras.layers.LeakyReLU(alpha=0.01)(u8)\n",
    "c8 = tf.keras.layers.Conv2D(128, 3, padding=\"same\", kernel_initializer=\"he_normal\")(a8)\n",
    "c8 = tf.keras.layers.Dropout(0.2)(c8)\n",
    "\n",
    "u9 = tf.keras.layers.Conv2DTranspose(64, (2, 2), strides=(2, 2), padding=\"same\")(c8)\n",
    "u9 = tf.keras.layers.concatenate([u9, c1])\n",
    "a9 = tf.keras.layers.LeakyReLU(alpha=0.01)(u9)\n",
    "c9 = tf.keras.layers.Conv2D(64, 3, padding=\"same\", kernel_initializer=\"he_normal\")(a9)\n",
    "c9 = tf.keras.layers.Dropout(0.1)(c9)\n",
    "\n",
    "# Creazione dell'output finale del modello\n",
    "c10 = tf.keras.layers.Conv2D(2, 1, padding=\"same\", kernel_initializer=\"he_normal\")(c9)\n",
    "\n",
    "# Creazione di un tensore di deformazione\n",
    "displacement_tensor = tf.keras.layers.Conv2D(\n",
    "    2, kernel_size=3,activation='linear', padding=\"same\", name=\"disp\"\n",
    ")(c10)\n",
    "\n",
    "# Define the function to extract the \"bottom\" tensor\n",
    "def extract_moving_img(input):\n",
    "    return input[:, :, :, 1:2]\n",
    "moving_image = tf.keras.layers.Lambda(extract_moving_img)(input)\n",
    "\n",
    "# Creazione di una funzione per applicare la trasformazione di deformazione all'immagine di input\n",
    "def apply_deformation(inputs):\n",
    "    #unpacking dell'input\n",
    "    image, displacement_tensor = inputs\n",
    "    # Applica la trasformazione di deformazione all'immagine di input utilizzando il tensore di deformazione\n",
    "    deformed_image = tfa.image.dense_image_warp(image, displacement_tensor)\n",
    "    return deformed_image\n",
    "\n",
    "def_image = tf.keras.layers.Lambda(apply_deformation)([moving_image,displacement_tensor])\n",
    "\n",
    "output = def_image"
   ]
  },
  {
   "cell_type": "markdown",
   "metadata": {},
   "source": [
    "Model Initialization"
   ]
  },
  {
   "cell_type": "code",
   "execution_count": 22,
   "metadata": {},
   "outputs": [],
   "source": [
    "# Create the U-Net model\n",
    "unet = tf.keras.Model(inputs=input, outputs=output)\n",
    "\n",
    "# Create the custom loss (mse for now)\n",
    "def custom_loss(y_true, y_pred):\n",
    "    return tf.losses.mean_squared_error(y_true, y_pred)*1/(256*256)\n",
    "\n",
    "\n",
    "unet.compile(loss=custom_loss, optimizer='adam', metrics=['accuracy'])\n",
    "#unet.summary()"
   ]
  },
  {
   "cell_type": "markdown",
   "metadata": {},
   "source": [
    "Model Training"
   ]
  },
  {
   "cell_type": "code",
   "execution_count": 23,
   "metadata": {},
   "outputs": [
    {
     "name": "stdout",
     "output_type": "stream",
     "text": [
      "Epoch 1/10\n"
     ]
    },
    {
     "name": "stdout",
     "output_type": "stream",
     "text": [
      "258/258 [==============================] - 61s 177ms/step - loss: 2.3123e-06 - accuracy: 0.1280 - val_loss: 2.3057e-06 - val_accuracy: 0.1304\n",
      "Epoch 2/10\n",
      "258/258 [==============================] - 44s 166ms/step - loss: 2.1431e-06 - accuracy: 0.1333 - val_loss: 2.0501e-06 - val_accuracy: 0.1377\n",
      "Epoch 3/10\n",
      "258/258 [==============================] - 43s 166ms/step - loss: 2.0067e-06 - accuracy: 0.1377 - val_loss: 1.9693e-06 - val_accuracy: 0.1405\n",
      "Epoch 4/10\n",
      "258/258 [==============================] - 43s 166ms/step - loss: 1.9549e-06 - accuracy: 0.1388 - val_loss: 1.9236e-06 - val_accuracy: 0.1411\n",
      "Epoch 5/10\n",
      "258/258 [==============================] - 44s 167ms/step - loss: 1.8934e-06 - accuracy: 0.1393 - val_loss: 1.8614e-06 - val_accuracy: 0.1414\n",
      "Epoch 6/10\n",
      "258/258 [==============================] - 44s 167ms/step - loss: 1.8177e-06 - accuracy: 0.1400 - val_loss: 1.8627e-06 - val_accuracy: 0.1419\n",
      "Epoch 7/10\n",
      "258/258 [==============================] - 44s 167ms/step - loss: 1.7590e-06 - accuracy: 0.1407 - val_loss: 1.7670e-06 - val_accuracy: 0.1426\n",
      "Epoch 8/10\n",
      "258/258 [==============================] - 44s 167ms/step - loss: 1.6967e-06 - accuracy: 0.1410 - val_loss: 1.6930e-06 - val_accuracy: 0.1446\n",
      "Epoch 9/10\n",
      "258/258 [==============================] - 44s 168ms/step - loss: 1.6002e-06 - accuracy: 0.1427 - val_loss: 1.5575e-06 - val_accuracy: 0.1483\n",
      "Epoch 10/10\n",
      "258/258 [==============================] - 43s 165ms/step - loss: 1.5187e-06 - accuracy: 0.1457 - val_loss: 1.5311e-06 - val_accuracy: 0.1463\n"
     ]
    },
    {
     "data": {
      "image/png": "[encoded data removed]",
      "text/plain": [
       "<Figure size 640x480 with 1 Axes>"
      ]
     },
     "metadata": {},
     "output_type": "display_data"
    },
    {
     "data": {
      "image/png": "[encoded data removed]",
      "text/plain": [
       "<Figure size 640x480 with 1 Axes>"
      ]
     },
     "metadata": {},
     "output_type": "display_data"
    }
   ],
   "source": [
    "\n",
    "# Train the model\n",
    "history = unet.fit(train_images_dataset, epochs=10, validation_data=val_images_dataset)\n",
    "\n",
    "# Plot training & validation accuracy values\n",
    "plt.plot(history.history['accuracy'])\n",
    "plt.plot(history.history['val_accuracy'])\n",
    "plt.title('Model Accuracy')\n",
    "plt.ylabel('Accuracy')\n",
    "plt.xlabel('Epoch')\n",
    "plt.legend(['Train', 'Validation'], loc='upper left')\n",
    "plt.show()\n",
    "\n",
    "# Plot training & validation loss values\n",
    "plt.plot(history.history['loss'])\n",
    "plt.plot(history.history['val_loss'])\n",
    "plt.title('Model Loss')\n",
    "plt.ylabel('Loss')\n",
    "plt.xlabel('Epoch')\n",
    "plt.legend(['Train', 'Validation'], loc='upper left')\n",
    "plt.show()"
   ]
  },
  {
   "cell_type": "markdown",
   "metadata": {},
   "source": [
    "# Testing the model\n"
   ]
  },
  {
   "cell_type": "code",
   "execution_count": null,
   "metadata": {},
   "outputs": [],
   "source": [
    "test_image = test_images_only.as_numpy_iterator().next()\n",
    "\n"
   ]
  }
 ],
 "metadata": {
  "kernelspec": {
   "display_name": "Python 3",
   "language": "python",
   "name": "python3"
  },
  "language_info": {
   "codemirror_mode": {
    "name": "ipython",
    "version": 3
   },
   "file_extension": ".py",
   "mimetype": "text/x-python",
   "name": "python",
   "nbconvert_exporter": "python",
   "pygments_lexer": "ipython3",
   "version": "3.10.12"
  }
 },
 "nbformat": 4,
 "nbformat_minor": 2
}
