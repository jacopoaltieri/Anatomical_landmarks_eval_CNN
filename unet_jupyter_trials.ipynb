{
 "cells": [
  {
   "cell_type": "markdown",
   "metadata": {},
   "source": [
    "# Modules imports"
   ]
  },
  {
   "cell_type": "code",
   "execution_count": 22,
   "metadata": {},
   "outputs": [],
   "source": [
    "import os\n",
    "import matplotlib.pyplot as plt # Needed when showing examples\n",
    "import cv2                      # Needed when showing examples\n",
    "import numpy as np\n",
    "\n",
    "os.environ[\"TF_CPP_MIN_LOG_LEVEL\"] = \"3\"  # ignore TF unsupported NUMA warnings\n",
    "\n",
    "\n",
    "# Filter out TFA warning\n",
    "#import warnings\n",
    "#warnings.filterwarnings(\"ignore\", message=\"TFA has entered a minimal maintenance and release mode\", category=Warning)\n",
    "\n",
    "\n",
    "import tensorflow as tf\n",
    "import tensorflow_addons as tfa\n",
    "\n",
    "\n",
    "# Avoid OOM errors by setting GPU Memory Consumption Growth\n",
    "#gpus = tf.config.experimental.list_physical_devices('GPU')\n",
    "#for gpu in gpus: \n",
    "#    tf.config.experimental.set_memory_growth(gpu, True)\n"
   ]
  },
  {
   "cell_type": "markdown",
   "metadata": {},
   "source": [
    "# Hyperparameters"
   ]
  },
  {
   "cell_type": "code",
   "execution_count": 23,
   "metadata": {},
   "outputs": [],
   "source": [
    "BATCH_SIZE = 3"
   ]
  },
  {
   "cell_type": "markdown",
   "metadata": {},
   "source": [
    "# Importing dataset"
   ]
  },
  {
   "cell_type": "code",
   "execution_count": 27,
   "metadata": {},
   "outputs": [
    {
     "name": "stdout",
     "output_type": "stream",
     "text": [
      "Started dataset loading...\n"
     ]
    }
   ],
   "source": [
    "print(\"Started dataset loading...\")\n",
    "\n",
    "input_path = \"/mnt/c/Users/jacop/Desktop/DL_Project/processed_dataset/\" #if in wsl\n",
    "#input_path = \"/mnt/c/Users/vitto/Desktop/DL project/DL project github/processed_dataset/\" #if in wsl\n",
    "#input_path = r\"C:\\Users\\vitto\\Desktop\\DL project\\DL project github\\processed_dataset\"  # if in windows\n",
    "#input_path = r\"C:\\Users\\jacop\\Desktop\\DL_Project\\processed_dataset\"  # if in windows\n",
    "\n",
    "\n",
    "\n",
    "# Function to process images\n",
    "def process_image(image_path):\n",
    "    img = tf.io.read_file(image_path)\n",
    "    img = tf.image.decode_jpeg(img)\n",
    "    \n",
    "    # Check the number of channels in the image\n",
    "    num_channels = tf.shape(img)[-1]\n",
    "\n",
    "    if num_channels > 1:\n",
    "        # Convert the image to grayscale if it has multiple channels\n",
    "        img = tf.image.rgb_to_grayscale(img)\n",
    "    img = tf.image.convert_image_dtype(img, tf.float32)\n",
    "    img = img / 255.0\n",
    "    return img\n",
    "\n",
    "# Function to process labels\n",
    "def load_labels(label_path):\n",
    "    label_path_str = label_path.numpy().decode('utf-8')\n",
    "    landmarks = []\n",
    "\n",
    "    with open(label_path_str, 'r') as file:\n",
    "        next(file)  # Skip the first line\n",
    "\n",
    "        for line in file:\n",
    "            columns = line.strip().split(\"\\t\")\n",
    "            x_value = float(columns[1]) / 256.0\n",
    "            y_value = float(columns[2]) / 256.0\n",
    "            landmarks.extend([x_value, y_value])\n",
    "\n",
    "    return tf.convert_to_tensor(landmarks, dtype=tf.float32)\n",
    "\n",
    "# Define the file patterns for images and labels\n",
    "train_image_pattern = os.path.join(input_path, \"images/train\", \"*.jpg\")\n",
    "test_image_pattern = os.path.join(input_path, \"images/test\", \"*.jpg\")\n",
    "val_image_pattern = os.path.join(input_path, \"images/val\", \"*.jpg\")\n",
    "\n",
    "train_label_pattern = os.path.join(input_path, \"labels/train\", \"*.txt\")\n",
    "test_label_pattern = os.path.join(input_path, \"labels/test\", \"*.txt\")\n",
    "val_label_pattern = os.path.join(input_path, \"labels/val\", \"*.txt\")\n",
    "\n",
    "# Create datasets for images and labels\n",
    "train_images = tf.data.Dataset.list_files(train_image_pattern, shuffle=False)\n",
    "test_images = tf.data.Dataset.list_files(test_image_pattern, shuffle=False)\n",
    "val_images = tf.data.Dataset.list_files(val_image_pattern, shuffle=False)\n",
    "\n",
    "train_labels = tf.data.Dataset.list_files(train_label_pattern, shuffle=False)\n",
    "test_labels = tf.data.Dataset.list_files(test_label_pattern, shuffle=False)\n",
    "val_labels = tf.data.Dataset.list_files(val_label_pattern, shuffle=False)\n",
    "\n",
    "# Process images and load labels\n",
    "train_images = train_images.map(process_image)\n",
    "test_images = test_images.map(process_image)\n",
    "val_images = val_images.map(process_image)\n",
    "\n",
    "train_labels = train_labels.map(lambda x: tf.py_function(load_labels, [x], tf.float32))\n",
    "test_labels = test_labels.map(lambda x: tf.py_function(load_labels, [x], tf.float32))\n",
    "val_labels = val_labels.map(lambda x: tf.py_function(load_labels, [x], tf.float32))\n",
    "\n",
    "\n",
    "# Combine images and labels\n",
    "train_dataset = tf.data.Dataset.zip((train_images, train_labels))\n",
    "test_dataset = tf.data.Dataset.zip((test_images, test_labels))\n",
    "val_dataset = tf.data.Dataset.zip((val_images, val_labels))\n"
   ]
  },
  {
   "cell_type": "markdown",
   "metadata": {},
   "source": [
    "# U-Net\n",
    "\n",
    "Creating generators"
   ]
  },
  {
   "cell_type": "code",
   "execution_count": 31,
   "metadata": {},
   "outputs": [
    {
     "name": "stdout",
     "output_type": "stream",
     "text": [
      "Started U-Net training...\n"
     ]
    }
   ],
   "source": [
    "print(\"Started U-Net training...\")\n",
    " \n",
    "# We only need images in this part\n",
    "train_images_only = train_dataset.map(lambda img, lbl: img)\n",
    "test_images_only = test_dataset.map(lambda img, lbl: img)\n",
    "val_images_only = val_dataset.map(lambda img, lbl: img)\n",
    "\n",
    "train_list = list(train_images_only)\n",
    "val_list = list(val_images_only)\n",
    "\n",
    "# Create a generator function to yield the combined image tensor\n",
    "def train_image_generator():\n",
    "    fixed_image = train_list[0]  # First image is the \"fixed_image\"\n",
    "    for moving_image in train_list[1:]:\n",
    "        # Combine fixed and moving images into a single tensor\n",
    "        combined_image = tf.stack([fixed_image, moving_image], -1)\n",
    "        yield (combined_image, fixed_image)\n",
    "\n",
    "# Create a TensorFlow dataset from the generator\n",
    "train_images_dataset = tf.data.Dataset.from_generator(\n",
    "    train_image_generator,\n",
    "    output_signature=(tf.TensorSpec(shape=(256, 256, 2), dtype=tf.float32),\n",
    "                      tf.TensorSpec(shape=(256, 256), dtype=tf.float32))\n",
    "    )\n",
    "train_images_dataset = train_images_dataset.shuffle(1000).batch(BATCH_SIZE)\n",
    "\n",
    "val_list = list(val_images_only)\n",
    "\n",
    "\n",
    "\n",
    "# Create a generator function to yield the combined image tensor for validation\n",
    "def val_image_generator():\n",
    "    for moving_image in val_list:\n",
    "        fixed_image = train_list[0]\n",
    "        combined_image = tf.stack([fixed_image, moving_image], -1)\n",
    "        yield (combined_image, fixed_image)\n",
    "\n",
    "# Create a TensorFlow dataset from the generator for validation\n",
    "val_images_dataset = tf.data.Dataset.from_generator(\n",
    "    val_image_generator,\n",
    "    output_signature=(\n",
    "        tf.TensorSpec(shape=(256, 256, 2), dtype=tf.float32),\n",
    "        tf.TensorSpec(shape=(256, 256), dtype=tf.float32)\n",
    "    )\n",
    ")\n",
    "\n",
    "# No need to shuffle for the validation set\n",
    "val_images_dataset = val_images_dataset.batch(BATCH_SIZE)"
   ]
  },
  {
   "cell_type": "markdown",
   "metadata": {},
   "source": [
    "U-net architecture"
   ]
  },
  {
   "cell_type": "code",
   "execution_count": 32,
   "metadata": {},
   "outputs": [],
   "source": [
    "input_shape = (256, 256, 2)\n",
    "\n",
    "\n",
    "# Due immagini, una fixed e una moving, prese come input\n",
    "input = tf.keras.layers.Input(shape=input_shape)\n",
    "\n",
    "### Downsampling path ###\n",
    "\n",
    "# Applicazione della funzione di attivazione Leaky ReLU con coefficiente alpha\n",
    "a1 = tf.keras.layers.LeakyReLU(alpha=0.01)(input)\n",
    "\n",
    "# Applicazione di un layer di convoluzione 2D con 64 filtri di dimensione 3x3\n",
    "c1 = tf.keras.layers.Conv2D(64, 3, padding=\"same\", kernel_initializer=\"he_normal\")(a1)\n",
    "\n",
    "# Applicazione del layer di Dropout con un tasso di dropout del 10%\n",
    "c1 = tf.keras.layers.Dropout(0.1)(c1)\n",
    "\n",
    "# Applicazione del max-pooling con una finestra di pooling di dimensione 2x2\n",
    "p1 = tf.keras.layers.MaxPooling2D(pool_size=(2, 2))(c1)\n",
    "\n",
    "\n",
    "a2 = tf.keras.layers.LeakyReLU(alpha=0.01)(p1)\n",
    "c2 = tf.keras.layers.Conv2D(128, 3, padding=\"same\", kernel_initializer=\"he_normal\")(a2)\n",
    "c2 = tf.keras.layers.Dropout(0.1)(c2)\n",
    "p2 = tf.keras.layers.MaxPooling2D(pool_size=(2, 2))(c2)\n",
    "\n",
    "a3 = tf.keras.layers.LeakyReLU(alpha=0.01)(p2)\n",
    "c3 = tf.keras.layers.Conv2D(256, 3, padding=\"same\", kernel_initializer=\"he_normal\")(a3)\n",
    "c3 = tf.keras.layers.Dropout(0.2)(c3)\n",
    "p3 = tf.keras.layers.MaxPooling2D(pool_size=(2, 2))(c3)\n",
    "\n",
    "a4 = tf.keras.layers.LeakyReLU(alpha=0.01)(p3)\n",
    "c4 = tf.keras.layers.Conv2D(512, 3, padding=\"same\", kernel_initializer=\"he_normal\")(a4)\n",
    "c4 = tf.keras.layers.Dropout(0.2)(c4)\n",
    "p4 = tf.keras.layers.MaxPooling2D(pool_size=(2, 2))(c4)\n",
    "\n",
    "a5 = tf.keras.layers.LeakyReLU(alpha=0.01)(p4)\n",
    "c5 = tf.keras.layers.Conv2D(1024, 3, padding=\"same\", kernel_initializer=\"he_normal\")(a5)\n",
    "c5 = tf.keras.layers.Dropout(0.3)(c5)\n",
    "\n",
    "### Upsampling path ###\n",
    "\n",
    "# Decodifica dell'output dell'encoder con la trasposizione della convoluzione 2D\n",
    "u6 = tf.keras.layers.Conv2DTranspose(512, (2, 2), strides=(2, 2), padding=\"same\")(c5)\n",
    "u6 = tf.keras.layers.concatenate(\n",
    "    [u6, c4]\n",
    ")  # Concatenazione dell'output con gli strati dell'encoder precedenti\n",
    "a6 = tf.keras.layers.LeakyReLU(alpha=0.01)(u6)  # Applicazione di Leaky ReLU\n",
    "c6 = tf.keras.layers.Conv2D(512, 3, padding=\"same\", kernel_initializer=\"he_normal\")(\n",
    "    a6\n",
    ")  # Convoluzione 2D\n",
    "c6 = tf.keras.layers.Dropout(0.3)(c6)  # Applicazione di Dropout\n",
    "\n",
    "u7 = tf.keras.layers.Conv2DTranspose(256, (2, 2), strides=(2, 2), padding=\"same\")(c6)\n",
    "u7 = tf.keras.layers.concatenate([u7, c3])\n",
    "a7 = tf.keras.layers.LeakyReLU(alpha=0.01)(u7)\n",
    "c7 = tf.keras.layers.Conv2D(256, 3, padding=\"same\", kernel_initializer=\"he_normal\")(a7)\n",
    "c7 = tf.keras.layers.Dropout(0.2)(c7)\n",
    "\n",
    "u8 = tf.keras.layers.Conv2DTranspose(128, (2, 2), strides=(2, 2), padding=\"same\")(c7)\n",
    "u8 = tf.keras.layers.concatenate([u8, c2])\n",
    "a8 = tf.keras.layers.LeakyReLU(alpha=0.01)(u8)\n",
    "c8 = tf.keras.layers.Conv2D(128, 3, padding=\"same\", kernel_initializer=\"he_normal\")(a8)\n",
    "c8 = tf.keras.layers.Dropout(0.2)(c8)\n",
    "\n",
    "u9 = tf.keras.layers.Conv2DTranspose(64, (2, 2), strides=(2, 2), padding=\"same\")(c8)\n",
    "u9 = tf.keras.layers.concatenate([u9, c1])\n",
    "a9 = tf.keras.layers.LeakyReLU(alpha=0.01)(u9)\n",
    "c9 = tf.keras.layers.Conv2D(64, 3, padding=\"same\", kernel_initializer=\"he_normal\")(a9)\n",
    "c9 = tf.keras.layers.Dropout(0.1)(c9)\n",
    "\n",
    "# Creazione dell'output finale del modello\n",
    "c10 = tf.keras.layers.Conv2D(2, 1, padding=\"same\", kernel_initializer=\"he_normal\")(c9)\n",
    "\n",
    "# Creazione di un tensore di deformazione\n",
    "displacement_tensor = tf.keras.layers.Conv2D(\n",
    "    2, kernel_size=3,activation='linear', padding=\"same\", name=\"disp\"\n",
    ")(c10)\n",
    "\n",
    "# Define the function to extract the \"bottom\" tensor\n",
    "def extract_moving_img(input):\n",
    "    return input[:, :, :, 1:2]\n",
    "moving_image = tf.keras.layers.Lambda(extract_moving_img)(input)\n",
    "\n",
    "# Creazione di una funzione per applicare la trasformazione di deformazione all'immagine di input\n",
    "def apply_deformation(inputs):\n",
    "    #unpacking dell'input\n",
    "    image, displacement_tensor = inputs\n",
    "    # Applica la trasformazione di deformazione all'immagine di input utilizzando il tensore di deformazione\n",
    "    deformed_image = tfa.image.dense_image_warp(image, displacement_tensor)\n",
    "    return deformed_image\n",
    "\n",
    "def_image = tf.keras.layers.Lambda(apply_deformation)([moving_image,displacement_tensor])\n",
    "\n",
    "output = def_image"
   ]
  },
  {
   "cell_type": "markdown",
   "metadata": {},
   "source": [
    "Model Initialization"
   ]
  },
  {
   "cell_type": "code",
   "execution_count": 33,
   "metadata": {},
   "outputs": [],
   "source": [
    "# Create the U-Net model\n",
    "unet = tf.keras.Model(inputs=input, outputs=output)\n",
    "\n",
    "# Create the custom loss (mse for now)\n",
    "def custom_loss(y_true, y_pred):\n",
    "    return tf.losses.mean_squared_error(y_true, y_pred)*1/(256*256)\n",
    "\n",
    "\n",
    "unet.compile(loss=custom_loss, optimizer='adam', metrics=['accuracy'])\n",
    "#unet.summary()"
   ]
  },
  {
   "cell_type": "markdown",
   "metadata": {},
   "source": [
    "Model Training"
   ]
  },
  {
   "cell_type": "code",
   "execution_count": 34,
   "metadata": {},
   "outputs": [
    {
     "name": "stdout",
     "output_type": "stream",
     "text": [
      "Epoch 1/10\n"
     ]
    },
    {
     "ename": "InvalidArgumentError",
     "evalue": "Graph execution error:\n\nDetected at node PyFunc defined at (most recent call last):\n<stack traces unavailable>\nDetected at node PyFunc defined at (most recent call last):\n<stack traces unavailable>\n2 root error(s) found.\n  (0) INVALID_ARGUMENT:  TypeError: `generator` yielded an element of shape (256, 256, 1, 2) where an element of shape (256, 256, 2) was expected.\nTraceback (most recent call last):\n\n  File \"/home/jacopo/.local/lib/python3.10/site-packages/tensorflow/python/ops/script_ops.py\", line 270, in __call__\n    ret = func(*args)\n\n  File \"/home/jacopo/.local/lib/python3.10/site-packages/tensorflow/python/autograph/impl/api.py\", line 643, in wrapper\n    return func(*args, **kwargs)\n\n  File \"/home/jacopo/.local/lib/python3.10/site-packages/tensorflow/python/data/ops/from_generator_op.py\", line 235, in generator_py_func\n    raise TypeError(\n\nTypeError: `generator` yielded an element of shape (256, 256, 1, 2) where an element of shape (256, 256, 2) was expected.\n\n\n\t [[{{node PyFunc}}]]\n\t [[IteratorGetNext]]\n\t [[IteratorGetNext/_60]]\n  (1) INVALID_ARGUMENT:  TypeError: `generator` yielded an element of shape (256, 256, 1, 2) where an element of shape (256, 256, 2) was expected.\nTraceback (most recent call last):\n\n  File \"/home/jacopo/.local/lib/python3.10/site-packages/tensorflow/python/ops/script_ops.py\", line 270, in __call__\n    ret = func(*args)\n\n  File \"/home/jacopo/.local/lib/python3.10/site-packages/tensorflow/python/autograph/impl/api.py\", line 643, in wrapper\n    return func(*args, **kwargs)\n\n  File \"/home/jacopo/.local/lib/python3.10/site-packages/tensorflow/python/data/ops/from_generator_op.py\", line 235, in generator_py_func\n    raise TypeError(\n\nTypeError: `generator` yielded an element of shape (256, 256, 1, 2) where an element of shape (256, 256, 2) was expected.\n\n\n\t [[{{node PyFunc}}]]\n\t [[IteratorGetNext]]\n0 successful operations.\n0 derived errors ignored. [Op:__inference_train_function_39803]",
     "output_type": "error",
     "traceback": [
      "\u001b[0;31m---------------------------------------------------------------------------\u001b[0m",
      "\u001b[0;31mInvalidArgumentError\u001b[0m                      Traceback (most recent call last)",
      "\u001b[1;32m/mnt/c/Users/jacop/Desktop/DL_Project/Anatomical_landmarks_eval_CNN/unet_jupyter_trials.ipynb Cell 14\u001b[0m line \u001b[0;36m2\n\u001b[1;32m      <a href='vscode-notebook-cell://wsl%2Bubuntu/mnt/c/Users/jacop/Desktop/DL_Project/Anatomical_landmarks_eval_CNN/unet_jupyter_trials.ipynb#X40sdnNjb2RlLXJlbW90ZQ%3D%3D?line=0'>1</a>\u001b[0m \u001b[39m# Train the model\u001b[39;00m\n\u001b[0;32m----> <a href='vscode-notebook-cell://wsl%2Bubuntu/mnt/c/Users/jacop/Desktop/DL_Project/Anatomical_landmarks_eval_CNN/unet_jupyter_trials.ipynb#X40sdnNjb2RlLXJlbW90ZQ%3D%3D?line=1'>2</a>\u001b[0m history \u001b[39m=\u001b[39m unet\u001b[39m.\u001b[39;49mfit(train_images_dataset, epochs\u001b[39m=\u001b[39;49m\u001b[39m10\u001b[39;49m, validation_data\u001b[39m=\u001b[39;49mval_images_dataset)\n\u001b[1;32m      <a href='vscode-notebook-cell://wsl%2Bubuntu/mnt/c/Users/jacop/Desktop/DL_Project/Anatomical_landmarks_eval_CNN/unet_jupyter_trials.ipynb#X40sdnNjb2RlLXJlbW90ZQ%3D%3D?line=3'>4</a>\u001b[0m \u001b[39m# Plot training & validation accuracy values\u001b[39;00m\n\u001b[1;32m      <a href='vscode-notebook-cell://wsl%2Bubuntu/mnt/c/Users/jacop/Desktop/DL_Project/Anatomical_landmarks_eval_CNN/unet_jupyter_trials.ipynb#X40sdnNjb2RlLXJlbW90ZQ%3D%3D?line=4'>5</a>\u001b[0m plt\u001b[39m.\u001b[39mplot(history\u001b[39m.\u001b[39mhistory[\u001b[39m'\u001b[39m\u001b[39maccuracy\u001b[39m\u001b[39m'\u001b[39m])\n",
      "File \u001b[0;32m~/.local/lib/python3.10/site-packages/keras/src/utils/traceback_utils.py:70\u001b[0m, in \u001b[0;36mfilter_traceback.<locals>.error_handler\u001b[0;34m(*args, **kwargs)\u001b[0m\n\u001b[1;32m     67\u001b[0m     filtered_tb \u001b[39m=\u001b[39m _process_traceback_frames(e\u001b[39m.\u001b[39m__traceback__)\n\u001b[1;32m     68\u001b[0m     \u001b[39m# To get the full stack trace, call:\u001b[39;00m\n\u001b[1;32m     69\u001b[0m     \u001b[39m# `tf.debugging.disable_traceback_filtering()`\u001b[39;00m\n\u001b[0;32m---> 70\u001b[0m     \u001b[39mraise\u001b[39;00m e\u001b[39m.\u001b[39mwith_traceback(filtered_tb) \u001b[39mfrom\u001b[39;00m \u001b[39mNone\u001b[39;00m\n\u001b[1;32m     71\u001b[0m \u001b[39mfinally\u001b[39;00m:\n\u001b[1;32m     72\u001b[0m     \u001b[39mdel\u001b[39;00m filtered_tb\n",
      "File \u001b[0;32m~/.local/lib/python3.10/site-packages/tensorflow/python/eager/execute.py:60\u001b[0m, in \u001b[0;36mquick_execute\u001b[0;34m(op_name, num_outputs, inputs, attrs, ctx, name)\u001b[0m\n\u001b[1;32m     53\u001b[0m   \u001b[39m# Convert any objects of type core_types.Tensor to Tensor.\u001b[39;00m\n\u001b[1;32m     54\u001b[0m   inputs \u001b[39m=\u001b[39m [\n\u001b[1;32m     55\u001b[0m       tensor_conversion_registry\u001b[39m.\u001b[39mconvert(t)\n\u001b[1;32m     56\u001b[0m       \u001b[39mif\u001b[39;00m \u001b[39misinstance\u001b[39m(t, core_types\u001b[39m.\u001b[39mTensor)\n\u001b[1;32m     57\u001b[0m       \u001b[39melse\u001b[39;00m t\n\u001b[1;32m     58\u001b[0m       \u001b[39mfor\u001b[39;00m t \u001b[39min\u001b[39;00m inputs\n\u001b[1;32m     59\u001b[0m   ]\n\u001b[0;32m---> 60\u001b[0m   tensors \u001b[39m=\u001b[39m pywrap_tfe\u001b[39m.\u001b[39mTFE_Py_Execute(ctx\u001b[39m.\u001b[39m_handle, device_name, op_name,\n\u001b[1;32m     61\u001b[0m                                       inputs, attrs, num_outputs)\n\u001b[1;32m     62\u001b[0m \u001b[39mexcept\u001b[39;00m core\u001b[39m.\u001b[39m_NotOkStatusException \u001b[39mas\u001b[39;00m e:\n\u001b[1;32m     63\u001b[0m   \u001b[39mif\u001b[39;00m name \u001b[39mis\u001b[39;00m \u001b[39mnot\u001b[39;00m \u001b[39mNone\u001b[39;00m:\n",
      "\u001b[0;31mInvalidArgumentError\u001b[0m: Graph execution error:\n\nDetected at node PyFunc defined at (most recent call last):\n<stack traces unavailable>\nDetected at node PyFunc defined at (most recent call last):\n<stack traces unavailable>\n2 root error(s) found.\n  (0) INVALID_ARGUMENT:  TypeError: `generator` yielded an element of shape (256, 256, 1, 2) where an element of shape (256, 256, 2) was expected.\nTraceback (most recent call last):\n\n  File \"/home/jacopo/.local/lib/python3.10/site-packages/tensorflow/python/ops/script_ops.py\", line 270, in __call__\n    ret = func(*args)\n\n  File \"/home/jacopo/.local/lib/python3.10/site-packages/tensorflow/python/autograph/impl/api.py\", line 643, in wrapper\n    return func(*args, **kwargs)\n\n  File \"/home/jacopo/.local/lib/python3.10/site-packages/tensorflow/python/data/ops/from_generator_op.py\", line 235, in generator_py_func\n    raise TypeError(\n\nTypeError: `generator` yielded an element of shape (256, 256, 1, 2) where an element of shape (256, 256, 2) was expected.\n\n\n\t [[{{node PyFunc}}]]\n\t [[IteratorGetNext]]\n\t [[IteratorGetNext/_60]]\n  (1) INVALID_ARGUMENT:  TypeError: `generator` yielded an element of shape (256, 256, 1, 2) where an element of shape (256, 256, 2) was expected.\nTraceback (most recent call last):\n\n  File \"/home/jacopo/.local/lib/python3.10/site-packages/tensorflow/python/ops/script_ops.py\", line 270, in __call__\n    ret = func(*args)\n\n  File \"/home/jacopo/.local/lib/python3.10/site-packages/tensorflow/python/autograph/impl/api.py\", line 643, in wrapper\n    return func(*args, **kwargs)\n\n  File \"/home/jacopo/.local/lib/python3.10/site-packages/tensorflow/python/data/ops/from_generator_op.py\", line 235, in generator_py_func\n    raise TypeError(\n\nTypeError: `generator` yielded an element of shape (256, 256, 1, 2) where an element of shape (256, 256, 2) was expected.\n\n\n\t [[{{node PyFunc}}]]\n\t [[IteratorGetNext]]\n0 successful operations.\n0 derived errors ignored. [Op:__inference_train_function_39803]"
     ]
    }
   ],
   "source": [
    "\n",
    "# Train the model\n",
    "history = unet.fit(train_images_dataset, epochs=10, validation_data=val_images_dataset)\n",
    "\n",
    "# Plot training & validation accuracy values\n",
    "plt.plot(history.history['accuracy'])\n",
    "plt.plot(history.history['val_accuracy'])\n",
    "plt.title('Model Accuracy')\n",
    "plt.ylabel('Accuracy')\n",
    "plt.xlabel('Epoch')\n",
    "plt.legend(['Train', 'Validation'], loc='upper left')\n",
    "plt.show()\n",
    "\n",
    "# Plot training & validation loss values\n",
    "plt.plot(history.history['loss'])\n",
    "plt.plot(history.history['val_loss'])\n",
    "plt.title('Model Loss')\n",
    "plt.ylabel('Loss')\n",
    "plt.xlabel('Epoch')\n",
    "plt.legend(['Train', 'Validation'], loc='upper left')\n",
    "plt.show()"
   ]
  },
  {
   "cell_type": "markdown",
   "metadata": {},
   "source": [
    "# Testing the model\n"
   ]
  },
  {
   "cell_type": "code",
   "execution_count": null,
   "metadata": {},
   "outputs": [],
   "source": [
    "test_image = test_images_only.as_numpy_iterator().next()\n",
    "\n"
   ]
  }
 ],
 "metadata": {
  "kernelspec": {
   "display_name": "Python 3",
   "language": "python",
   "name": "python3"
  },
  "language_info": {
   "codemirror_mode": {
    "name": "ipython",
    "version": 3
   },
   "file_extension": ".py",
   "mimetype": "text/x-python",
   "name": "python",
   "nbconvert_exporter": "python",
   "pygments_lexer": "ipython3",
   "version": "3.11.5"
  }
 },
 "nbformat": 4,
 "nbformat_minor": 2
}
